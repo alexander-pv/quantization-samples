{
 "cells": [
  {
   "cell_type": "markdown",
   "id": "a68f16fa-9333-47a8-8a3e-b0a2d06dcfc6",
   "metadata": {},
   "source": [
    "## Neural Network Quantization\n",
    "\n",
    "---\n",
    "\n",
    "### Before we begin...\n",
    "\n",
    "For a well-rounded understanding of this topic, I highly recommend the lectures [TinyML and Efficient Deep Learning Computing by MiT HAN.LAb](https://hanlab.mit.edu/courses/2024-fall-65940). This is a fantastic course made by a world-level expert, Professor Song Han from MIT EECS. Although you will be able to understanding all the approaches I present in the repository, it  will be more effective to supplement the samples with a detailed explanation of the topic. \n",
    "\n",
    "Broadly speaking, quantization is a technique that converts a neural network from high-precision arithmetic (like 32-bit floating point) to low-precision (like 8-bit integers). This process addresses several critical needs in production deployment:\n",
    "\n",
    "1. __Faster Inference__: Low-precision operations are computationally cheaper and can be heavily optimized on modern hardware.\n",
    "2. __Smaller Model Size__: Reduced precision drastically cuts storage requirements, enabling deployment on resource-constrained devices.\n",
    "3. __Lower Energy Consumption and Carbon Footprint__: Efficient computation and reduced memory bandwidth directly translate to less power usage, which is crucial at a global scale.\n",
    "\n",
    "As a result, quantization enables:\n",
    "1. Efficient execution on specific hardware, especially on edge devices with limited resources.\n",
    "2. A carefully managed trade-off between model accuracy and computational efficiency.\n",
    "\n",
    "### Remember!\n",
    "\n",
    "A fundamental principle in computer architecture and performance optimization is:\n",
    "> *Compute is cheap, memory access is expensive*.\n",
    "\n",
    "In other words, the cost of moving data between different levels of memory (e.g., from RAM to cache levels) often dominates performance. \n",
    "Minimizing this data transfer is a cornerstone of efficient algorithm and system design.\n",
    "\n",
    "Moreover, quantization is an application-oriented research topic that is highly driven by the needs of the computing industry. It is deeply interconnected with many other computer science disciplines, from hardware design to compiler theory.\n",
    "\n",
    "---"
   ]
  },
  {
   "cell_type": "markdown",
   "id": "ae203d90bcceab73",
   "metadata": {},
   "source": [
    "## Asymmetric (Affine) Linear Quantization"
   ]
  },
  {
   "cell_type": "markdown",
   "id": "dee716b613197240",
   "metadata": {},
   "source": [
    "In this notebook we will go through asymmetric linear quantization steps. Our goal is to compress ML model from __32-bit floating point__ precision to a __lower one__ preserving the most of the model acuracy.\n",
    "\n",
    "Quantization approach helps to reduce excessive use of memory to store, read and apply ML models.\n",
    "\n",
    "__Linear Quantization__ suggests that we can store quantized model weights along with small amount of parameters that helps to restore quantized weights as much as possible into the original form with higher bit precision via set of linear operations. The simplest way to do that is to store some scaling coefficients and track zero point between higher and lower precision weights.\n",
    "\n",
    "*Note: we can quantize not only weights but __activations__ as well, we will cover some algorithms working with activations quantization in further examples.* "
   ]
  },
  {
   "cell_type": "markdown",
   "id": "e4af38a8633778b7",
   "metadata": {},
   "source": [
    "In __Asymmetric Linear quantization__ we track quantized weights __scaling coefficients__ and __zero point__ location for a quantized range of values"
   ]
  },
  {
   "cell_type": "code",
   "execution_count": 1,
   "id": "13a03df72a3e9317",
   "metadata": {},
   "outputs": [],
   "source": [
    "import copy\n",
    "\n",
    "import numpy as np\n",
    "import torch\n",
    "import torchao\n",
    "import torch.nn as nn\n",
    "import torchvision\n",
    "\n",
    "from sklearn.model_selection import train_test_split\n",
    "from sklearn.preprocessing import OneHotEncoder\n",
    "from sklearn.preprocessing import StandardScaler\n",
    "from sklearn.metrics import classification_report\n",
    "from sklearn import datasets\n",
    "\n",
    "import pandas as pd\n",
    "\n",
    "import matplotlib.pyplot as plt\n",
    "from watermark import watermark\n",
    "\n",
    "%config InlineBackend.figure_format = \"retina\""
   ]
  },
  {
   "cell_type": "code",
   "execution_count": 2,
   "id": "e6383de0-241a-42e7-b9d6-d774fce85eab",
   "metadata": {},
   "outputs": [
    {
     "name": "stdout",
     "output_type": "stream",
     "text": [
      "Last updated: 2025-10-26T21:05:21.834463+03:00\n",
      "\n",
      "Python implementation: CPython\n",
      "Python version       : 3.12.3\n",
      "IPython version      : 9.6.0\n",
      "\n",
      "Compiler    : GCC 13.3.0\n",
      "OS          : Linux\n",
      "Release     : 6.14.0-33-generic\n",
      "Machine     : x86_64\n",
      "Processor   : x86_64\n",
      "CPU cores   : 12\n",
      "Architecture: 64bit\n",
      "\n",
      "numpy      : 2.3.4\n",
      "torch      : 2.9.0\n",
      "torchvision: 0.24.0\n",
      "sklearn    : 1.7.2\n",
      "matplotlib : 3.10.7\n",
      "\n"
     ]
    }
   ],
   "source": [
    "print(watermark())\n",
    "print(watermark(packages=\"numpy,torch,torchvision,sklearn,matplotlib\"))"
   ]
  },
  {
   "cell_type": "markdown",
   "id": "d582306d-f303-4813-ab2f-2afeede1203e",
   "metadata": {},
   "source": [
    "### Example 1. Wine classifier with dense neural network"
   ]
  },
  {
   "cell_type": "markdown",
   "id": "d05e0ec0-a735-479c-9ede-e945d79adb7c",
   "metadata": {},
   "source": [
    "In this example we will use [wine](https://archive.ics.uci.edu/dataset/109/wine) tabular dataset and a dense neural network to classify types of wine"
   ]
  },
  {
   "cell_type": "code",
   "execution_count": 3,
   "id": "6e0250e1-c397-401b-8209-d44d24ab7554",
   "metadata": {},
   "outputs": [],
   "source": [
    "seed = 123\n",
    "test_size = 0.2\n",
    "\n",
    "np.random.seed(seed)\n",
    "data = datasets.load_wine()\n",
    "\n",
    "X, y = data.data, data.target\n",
    "X_train, X_test, y_train, y_test = train_test_split(X, y, test_size=test_size, random_state=seed)\n",
    "\n",
    "enc = OneHotEncoder(handle_unknown='ignore')\n",
    "scaler = StandardScaler()\n",
    "\n",
    "y_train_enc = enc.fit_transform(y_train.reshape(-1, 1))\n",
    "y_test_enc = enc.transform(y_test.reshape(-1, 1))\n",
    "X_train_sc = scaler.fit_transform(X_train)\n",
    "X_test_sc = scaler.transform(X_test)"
   ]
  },
  {
   "cell_type": "code",
   "execution_count": 4,
   "id": "a6a916f5-cd8c-4541-be8a-a01e57e62ca2",
   "metadata": {},
   "outputs": [
    {
     "name": "stdout",
     "output_type": "stream",
     "text": [
      "(142, 13) (142, 3)\n"
     ]
    }
   ],
   "source": [
    "print(X_train_sc.shape, y_train_enc.shape)"
   ]
  },
  {
   "cell_type": "markdown",
   "id": "e3223a46-7557-453f-9d9e-3f700f27f16f",
   "metadata": {},
   "source": [
    "### 1.1 Example: Numpy implementation"
   ]
  },
  {
   "cell_type": "markdown",
   "id": "52a80928-402f-4aa5-aa12-b21fd81dd623",
   "metadata": {},
   "source": [
    "#### Preparing neural network classifier"
   ]
  },
  {
   "cell_type": "code",
   "execution_count": 5,
   "id": "01ea71b5-ba7a-4549-b51e-e87bc5c65b03",
   "metadata": {},
   "outputs": [],
   "source": [
    "class NNet:\n",
    "    def __init__(\n",
    "        self, \n",
    "        input_size: int, \n",
    "        hidden_size: int, \n",
    "        output_size: int\n",
    "    ):\n",
    "        # input_size, number of features in our dataset\n",
    "        # hidden_size, hidden feature vector\n",
    "        # output_size, the number of classes in our task\n",
    "        self.W1 = None\n",
    "        self.b1 = None\n",
    "        self.W2 = None\n",
    "        self.b2 = None\n",
    "        self.init_weights()\n",
    "\n",
    "    def init_weights(self) -> None:\n",
    "        # First layer with bias\n",
    "        self.W1 = np.random.randn(input_size, hidden_size).astype(np.float32)\n",
    "        self.b1 = np.random.randn(1, hidden_size).astype(np.float32)\n",
    "        \n",
    "        # Second layer with bias\n",
    "        self.W2 = np.random.randn(hidden_size, output_size).astype(np.float32)\n",
    "        self.b2 = np.random.randn(1, output_size).astype(np.float32)\n",
    "\n",
    "    def forward(self, X: np.ndarray) -> np.ndarray:\n",
    "\n",
    "        # Apply weights: z1 = W1X + b1\n",
    "        self.z1 = np.dot(X, self.W1) + self.b1\n",
    "        # Apply ReLU activation function: a1 = relu(z1)\n",
    "        self.a1 = np.maximum(0, self.z1)\n",
    "        # Apply weights: z2 = W2a1 + b2\n",
    "        self.z2 = np.dot(self.a1, self.W2) + self.b2\n",
    "        # Aply softmax activation: a2 = softmax(z2)\n",
    "        exp_z2 = np.exp(self.z2)\n",
    "        self.a2 = exp_z2 / np.sum(exp_z2, axis=1, keepdims=True)\n",
    "        return self.a2\n",
    "\n",
    "    def backward(self, X: np.ndarray, y: np.ndarray, learning_rate: float) -> None:\n",
    "        \"\"\"\n",
    "        Lets write details how we actually calculate derivates for our model.\n",
    "        \n",
    "        L- loss function, the result of our forward calculation.\n",
    "        \n",
    "        dL/dz2 = a2 - y\n",
    "        \n",
    "            dL/dW2 = dL/dz2 * dz2/dW2 = (a2 - y) * a1\n",
    "            dL/db2 = dL/dz2 * dz2/db2 = (a2 - y) * 1\n",
    "\n",
    "            dL/da1 = dL/dz2 * dz2/da1 = (a2 - y) * W2\n",
    "\n",
    "                dL/dz1 = dL/da1 * da1/dz1 =  (a2 - y) * W2 * 1_(z1 > 0)\n",
    "\n",
    "                    dL/dW1 = dL/dz1 * dz1/dW1 = (a2 - y) * W2 * 1_(z1 > 0) * X\n",
    "                    dL/db1 = dL/dz1 * dz1/db1 = (a2 - y) * W2 * 1_(z1 > 0)\n",
    "        \"\"\"\n",
    "        m = X.shape[0]\n",
    "\n",
    "        dz2 = self.a2 - y                                  # dL/dz2 \n",
    "        dW2 = np.dot(self.a1.T, dz2) / m                   # dL/dW2\n",
    "        db2 = np.sum(dz2, axis=0, keepdims=True) / m       # dL/db2 \n",
    "        da1 = np.dot(dz2, self.W2.T)                       # dL/da1\n",
    "        \n",
    "        dz1 = da1 * (self.z1 > 0)                          # dL/dz1, Gradient for ReLU with indicator\n",
    "        dW1 = np.dot(X.T, dz1) / m                         # dL/dW1\n",
    "        db1 = np.sum(dz1, axis=0, keepdims=True) / m       # dL/db1\n",
    "\n",
    "        # Update weights with fixed learning_rate with respect to their derivatives\n",
    "        self.W2 -= learning_rate * dW2\n",
    "        self.b2 -= learning_rate * db2\n",
    "        self.W1 -= learning_rate * dW1\n",
    "        self.b1 -= learning_rate * db1"
   ]
  },
  {
   "cell_type": "code",
   "execution_count": 6,
   "id": "42fe35f3-49dc-46ce-9b39-2f0b93bb36f9",
   "metadata": {},
   "outputs": [],
   "source": [
    "# Set model parameters\n",
    "n_features = X.shape[1]             # 13 features, 13 table columns\n",
    "input_size = n_features             # Features are our input size of one sample\n",
    "hidden_size = 100                   # Hidden size is our hidden dimension. \n",
    "output_size = len(np.unique(y))     # Output size is defined via our categories\n",
    "\n",
    "# Set model training configuration\n",
    "epochs = 200     # Total epochs\n",
    "batch_size = 10  # How many samples we use in a mini-batch training\n",
    "lr = 0.1         # Learning rate is constant for simplicity\n",
    "eps = 1e-8       # Constant for numerical stability\n",
    "show_epochs = 10 # For verbose output\n",
    "train_size = len(y_train)"
   ]
  },
  {
   "cell_type": "markdown",
   "id": "790cc63b-c879-4f51-a6b2-f7a9834b4ab5",
   "metadata": {},
   "source": [
    "Lets train our classifier"
   ]
  },
  {
   "cell_type": "code",
   "execution_count": 7,
   "id": "dcc1e1c3-2ec6-45b1-9a2d-06c50054145e",
   "metadata": {},
   "outputs": [],
   "source": [
    "model = NNet(input_size, hidden_size, output_size)"
   ]
  },
  {
   "cell_type": "code",
   "execution_count": 8,
   "id": "6b7d74b2-737b-465d-822c-f3f2f1960bf6",
   "metadata": {},
   "outputs": [
    {
     "name": "stdout",
     "output_type": "stream",
     "text": [
      "Model info:\n",
      "dim(W1): (13, 100)\n",
      "dim(b1): (1, 100)\n",
      "dim(W2): (100, 3)\n",
      "dim(b2): (1, 3)\n",
      "\n"
     ]
    }
   ],
   "source": [
    "model_info = {\n",
    "    \"W1\": model.W1.shape,\n",
    "    \"b1\": model.b1.shape,\n",
    "    \"W2\": model.W2.shape,\n",
    "    \"b2\": model.b2.shape,\n",
    "}\n",
    "print(\"Model info:\\n\" + \"\".join([f\"dim({k}): {v}\\n\" for k, v in model_info.items()]))"
   ]
  },
  {
   "cell_type": "code",
   "execution_count": 9,
   "id": "d77fd2a9-bff4-49a9-94bb-07bdd88776be",
   "metadata": {},
   "outputs": [
    {
     "name": "stdout",
     "output_type": "stream",
     "text": [
      "Epoch: 0. Train loss: 34.80452084764922\n",
      "Epoch: 10. Train loss: 0.001660566730564671\n",
      "Epoch: 20. Train loss: 0.0009475190943517911\n",
      "Epoch: 30. Train loss: 0.0006958735681107859\n",
      "Epoch: 40. Train loss: 0.0005595339075997498\n",
      "Epoch: 50. Train loss: 0.0004725040701494334\n",
      "Epoch: 60. Train loss: 0.00041178088309021623\n",
      "Epoch: 70. Train loss: 0.0003669436213747717\n",
      "Epoch: 80. Train loss: 0.00033249625635077925\n",
      "Epoch: 90. Train loss: 0.00030524011818419103\n",
      "Epoch: 100. Train loss: 0.0002831695550347456\n",
      "Epoch: 110. Train loss: 0.00026495946563865377\n",
      "Epoch: 120. Train loss: 0.00024970139180467975\n",
      "Epoch: 130. Train loss: 0.00023674328596567416\n",
      "Epoch: 140. Train loss: 0.00022561188672422084\n",
      "Epoch: 150. Train loss: 0.0002159467793310257\n",
      "Epoch: 160. Train loss: 0.00020747418316025893\n",
      "Epoch: 170. Train loss: 0.00019998341468951841\n",
      "Epoch: 180. Train loss: 0.00019330689638822222\n",
      "Epoch: 190. Train loss: 0.00018731311547128917\n"
     ]
    }
   ],
   "source": [
    "model.init_weights()\n",
    "\n",
    "loss_log = []\n",
    "\n",
    "for epoch in range(epochs):\n",
    "  loss_accum = 0\n",
    "  for i in range(0, train_size, batch_size):\n",
    "    X_batch = X_train_sc[i: i + batch_size, :]\n",
    "    y_batch = np.array(y_train_enc[i: i + batch_size, :].todense())\n",
    "\n",
    "    y_pred = model.forward(X_batch)\n",
    "    ce_loss = -np.mean( np.sum(np.multiply(y_batch, np.log(y_pred + eps)), axis=1) )\n",
    "    model.backward(X_batch, y_batch, lr)\n",
    "    loss_accum += ce_loss\n",
    "  loss_log.append(loss_accum)\n",
    "  if epoch % show_epochs == 0:\n",
    "    print(f\"Epoch: {epoch}. Train loss: {loss_accum}\")"
   ]
  },
  {
   "cell_type": "code",
   "execution_count": 10,
   "id": "fd1e556e-8f8b-4add-946a-671de7ef4f46",
   "metadata": {},
   "outputs": [
    {
     "data": {
      "image/png": "[encoded data removed]",
      "text/plain": [
       "<Figure size 400x300 with 1 Axes>"
      ]
     },
     "metadata": {
      "image/png": {
       "height": 297,
       "width": 380
      }
     },
     "output_type": "display_data"
    }
   ],
   "source": [
    "fig = plt.figure(figsize=(4 ,3))\n",
    "plt.plot(np.log(loss_log))\n",
    "plt.xlabel(\"Epoch\")\n",
    "plt.ylabel(\"log(Loss per epoch)\")\n",
    "plt.show()"
   ]
  },
  {
   "cell_type": "markdown",
   "id": "6d157a62-9759-4591-95e7-34b969a2c4ef",
   "metadata": {},
   "source": [
    "Evaluate model on a test set"
   ]
  },
  {
   "cell_type": "code",
   "execution_count": 11,
   "id": "6c8afbe5-7781-4b07-8c7a-7db1dc294dbe",
   "metadata": {},
   "outputs": [
    {
     "name": "stdout",
     "output_type": "stream",
     "text": [
      "              precision    recall  f1-score   support\n",
      "\n",
      "     class_0       0.89      1.00      0.94         8\n",
      "     class_1       0.91      0.91      0.91        11\n",
      "     class_2       1.00      0.94      0.97        17\n",
      "\n",
      "    accuracy                           0.94        36\n",
      "   macro avg       0.93      0.95      0.94        36\n",
      "weighted avg       0.95      0.94      0.94        36\n",
      "\n"
     ]
    }
   ],
   "source": [
    "y_pred_test = np.argmax(model.forward(X_test_sc), axis=1)\n",
    "print(classification_report(y_test, y_pred_test, target_names=data.target_names))  "
   ]
  },
  {
   "cell_type": "markdown",
   "id": "5ef0d4b0-14a6-4cec-b3d9-9549ce3871bc",
   "metadata": {},
   "source": [
    "Everybody wishes to get such metrics on a real data 😄"
   ]
  },
  {
   "cell_type": "markdown",
   "id": "1e08a88b-f2f6-45b2-befd-fe9c687f1493",
   "metadata": {},
   "source": [
    "Now when we have the prepared model we can apply quantization. But before doing that lets measure current model storage assuming that we have 32-bit floating point weights:"
   ]
  },
  {
   "cell_type": "code",
   "execution_count": 12,
   "id": "6c55c1ba-bcbc-4a0b-9a32-c543005f818f",
   "metadata": {},
   "outputs": [],
   "source": [
    "def calculate_model_storage(model_obj: object, num_bits: int) -> int:\n",
    "    \"\"\"\n",
    "    Calculate the total storage size of a model in bytes.\n",
    "    NB!!! Without storage need for metadata: scaling coefficients and zero point\n",
    "\n",
    "    Parameters:\n",
    "        model (NNet): The neural network model with weights and biases.\n",
    "        num_bits (int): The bit precision (e.g., 32 for FP32, 8 for INT8).\n",
    "\n",
    "    Returns:\n",
    "        int: Total storage size in bytes.\n",
    "    \"\"\"\n",
    "    total_params = 0\n",
    "\n",
    "    # Count parameters for each layer\n",
    "    total_params += np.prod(model_obj.W1.shape) + np.prod(model_obj.b1.shape)\n",
    "    total_params += np.prod(model_obj.W2.shape) + np.prod(model_obj.b2.shape)\n",
    "\n",
    "    # Calculate storage in bytes\n",
    "    total_bits = total_params * num_bits\n",
    "    total_bytes = total_bits // 8\n",
    "\n",
    "    return total_bytes"
   ]
  },
  {
   "cell_type": "code",
   "execution_count": 13,
   "id": "023d15be-a58c-405d-a0de-f9cc357b36c9",
   "metadata": {},
   "outputs": [
    {
     "name": "stdout",
     "output_type": "stream",
     "text": [
      "Initial model size is 6.65KB\n"
     ]
    }
   ],
   "source": [
    "print(f\"Initial model size is {calculate_model_storage(model, 32) / 1024:.2f}KB\")"
   ]
  },
  {
   "cell_type": "markdown",
   "id": "6d43b5a2-f263-4ea7-a1ba-45f671754eaf",
   "metadata": {},
   "source": [
    "We will store this information for further comparison"
   ]
  },
  {
   "cell_type": "code",
   "execution_count": 14,
   "id": "23e7eb07-d928-4b3b-8e25-15330cfe9078",
   "metadata": {},
   "outputs": [],
   "source": [
    "initial_report = classification_report(y_test, y_pred_test, target_names=data.target_names, output_dict=True)"
   ]
  },
  {
   "cell_type": "code",
   "execution_count": 15,
   "id": "16b23060-1087-4238-abf5-9c02aac3aeb3",
   "metadata": {},
   "outputs": [],
   "source": [
    "METRICS = [\n",
    "    (\n",
    "        \"fp32\",\n",
    "        float(initial_report[\"macro avg\"][\"f1-score\"]),\n",
    "        float(initial_report[\"macro avg\"][\"recall\"]),\n",
    "        float(initial_report[\"macro avg\"][\"precision\"]),\n",
    "        calculate_model_storage(model, 32) / 1024, # Weights size in KB\n",
    "        0, # Quantization squared error\n",
    "    ) \n",
    "]"
   ]
  },
  {
   "cell_type": "markdown",
   "id": "c9f614ad-45e9-4f68-b282-4d07aa19407b",
   "metadata": {},
   "source": [
    "#### Apply quantization\n",
    "\n",
    "\n",
    "We will stick to the following procedure to pick the best model from the quantized candidates:\n",
    "\n",
    "1. Apply initial cross-layer equalization, CLE\n",
    "2. Apply linear quantization\n",
    "3. Calculate quantization error as MSE between initial FP32 weights and dequantized weights calculated from lower precision\n",
    "4. Evaluate model storage and accuracy\n",
    "\n",
    "*Note: CLE is another topic closely related to qunatization procedures. You can learn more in paper [Data-Free Quantization\n",
    "Through Weight Equalization and Bias Correction](https://arxiv.org/pdf/1906.04721)*"
   ]
  },
  {
   "cell_type": "code",
   "execution_count": 16,
   "id": "a43d45d3-c7fa-4bfd-9712-dd11d1e82e08",
   "metadata": {},
   "outputs": [],
   "source": [
    "weights_preicions_in_bits = (8, 6, 4, 2)"
   ]
  },
  {
   "cell_type": "code",
   "execution_count": 17,
   "id": "56ba29ed-babf-4d3e-825e-bfd78a22e53a",
   "metadata": {},
   "outputs": [],
   "source": [
    "def cross_layer_equalization(W1: np.ndarray, W2: np.ndarray, b1: np.ndarray) -> tuple:\n",
    "    \"\"\"\n",
    "    Normalize the weights across two consecutive layers to balance their scales.\n",
    "    Adjusts W1, W2, and b1 in place to equalize the activation ranges.\n",
    "    \"\"\"\n",
    "    # We use weights dimension order (in_features, out_features) in this simple setting.\n",
    "    r1 = np.max(np.abs(W1), axis=0)  # Max abs values in W1, axis=1 means we aggregate values across inputs\n",
    "    r2 = np.max(np.abs(W2), axis=1)  # Max abs values in W2, axis=0 means we aggregate values across outputs\n",
    "\n",
    "    s = r1 / (r2 + 1e-8)\n",
    "    # print(f\"CLE scaling factors: {s}\")\n",
    "    \n",
    "    for i in range(W1.shape[1]):\n",
    "        W1[:, i] = W1[:, i] / s[i]\n",
    "        b1[0][i] = b1[0][i] / s[i]\n",
    "        W2[i, :] = W2[i, :] * s[i]\n",
    "\n",
    "    return W1, W2, b1\n",
    "     \n",
    "\n",
    "def quantize_tensor(tensor: np.ndarray, num_bits: int) -> tuple:\n",
    "    \"\"\"\n",
    "    Apply asymmetric linear quantization\n",
    "    \"\"\"\n",
    "\n",
    "    qmin = -(2 ** (num_bits - 1))     # Minimum value in quantized range\n",
    "    qmax = (2 ** (num_bits - 1)) - 1. # Maximum value in quantized range\n",
    "\n",
    "    min_val = np.min(tensor)          # Minimum real value of a tensor\n",
    "    max_val = np.max(tensor)          # Maximum real value of a tensor\n",
    "\n",
    "    scale = (max_val - min_val) / (qmax - qmin) # Scaling factor\n",
    "    zero_point = qmin - min_val / scale         # Zero point location for a quantized range\n",
    "\n",
    "    # These matrices can be stored along with scaling factors and zero point for dequantization\n",
    "    quantized = np.round(zero_point + tensor / scale).clip(qmin, qmax).astype(int)\n",
    "    dequantized = scale * (quantized - zero_point)\n",
    "\n",
    "    return quantized, dequantized, scale, zero_point\n",
    "\n",
    "\n",
    "def get_quant_mse(x1: np.ndarray, x2: np.ndarray, precision: int = 4) -> float:\n",
    "  return np.round(np.sum( (x1 - x2)**2), precision)"
   ]
  },
  {
   "cell_type": "code",
   "execution_count": 18,
   "id": "46b2e67d-4079-436e-91dc-8e81e97011d0",
   "metadata": {
    "scrolled": true
   },
   "outputs": [
    {
     "name": "stdout",
     "output_type": "stream",
     "text": [
      "### Qunatization with Bits: 8\n",
      "#Original FP32 W1:\n",
      "[[-0.5420247  -0.17215796 -0.4775285  ... -0.23556532 -0.16103874\n",
      "  -0.1501477 ]\n",
      " [ 0.15514757  0.37640822 -0.8304614  ...  0.03485452  0.00406086\n",
      "  -0.10569131]\n",
      " [ 1.5605261   0.42767206  0.06610699 ... -1.1828731  -0.28799695\n",
      "   0.57866275]\n",
      " ...\n",
      " [ 0.38066596  0.3469791   0.19245772 ... -0.7721957  -0.17893527\n",
      "  -0.497879  ]\n",
      " [-1.321151    0.8399943   0.5546144  ...  0.18353902  0.07889172\n",
      "   0.2625545 ]\n",
      " [-0.46748447 -0.465602   -0.02235018 ... -0.30418375  0.14572665\n",
      "   0.64380074]]\n",
      "#Quantized W1 with 8 bits:\n",
      "[[-32 -15 -29 ... -18 -14 -14]\n",
      " [  1  11 -46 ...  -5  -6 -12]\n",
      " [ 68  14  -3 ... -63 -20  21]\n",
      " ...\n",
      " [ 12  10   3 ... -43 -15 -30]\n",
      " [-69  33  20 ...   2  -3   6]\n",
      " [-29 -29  -8 ... -21   0  24]]\n",
      "#Dequantized W1:\n",
      "[[-0.53670628 -0.17849387 -0.47349233 ... -0.24170782 -0.15742255\n",
      "  -0.15742255]\n",
      " [ 0.15864723  0.36936041 -0.83170474 ...  0.03221932  0.011148\n",
      "  -0.11527991]\n",
      " [ 1.57042557  0.43257437  0.07436196 ... -1.18991716 -0.28385046\n",
      "   0.5800736 ]\n",
      " ...\n",
      " [ 0.39043173  0.3482891   0.20078987 ... -0.76849079 -0.17849387\n",
      "  -0.49456365]\n",
      " [-1.31634507  0.83292942  0.55900228 ...  0.17971855  0.07436196\n",
      "   0.26400382]\n",
      " [-0.47349233 -0.47349233 -0.03099464 ... -0.30492178  0.13757591\n",
      "   0.64328756]]\n",
      "Quantization MSE: 0.0616\n",
      "INT8 Model Storage: 1.66 KB\n",
      "              precision    recall  f1-score   support\n",
      "\n",
      "     class_0       0.89      1.00      0.94         8\n",
      "     class_1       0.91      0.91      0.91        11\n",
      "     class_2       1.00      0.94      0.97        17\n",
      "\n",
      "    accuracy                           0.94        36\n",
      "   macro avg       0.93      0.95      0.94        36\n",
      "weighted avg       0.95      0.94      0.94        36\n",
      "\n",
      "### Qunatization with Bits: 6\n",
      "#Original FP32 W1:\n",
      "[[-0.5420247  -0.17215796 -0.4775285  ... -0.23556532 -0.16103874\n",
      "  -0.1501477 ]\n",
      " [ 0.15514757  0.37640822 -0.8304614  ...  0.03485452  0.00406086\n",
      "  -0.10569131]\n",
      " [ 1.5605261   0.42767206  0.06610699 ... -1.1828731  -0.28799695\n",
      "   0.57866275]\n",
      " ...\n",
      " [ 0.38066596  0.3469791   0.19245772 ... -0.7721957  -0.17893527\n",
      "  -0.497879  ]\n",
      " [-1.321151    0.8399943   0.5546144  ...  0.18353902  0.07889172\n",
      "   0.2625545 ]\n",
      " [-0.46748447 -0.465602   -0.02235018 ... -0.30418375  0.14572665\n",
      "   0.64380074]]\n",
      "#Quantized W1 with 6 bits:\n",
      "[[ -8  -4  -8 ...  -5  -4  -4]\n",
      " [  0   2 -12 ...  -2  -2  -3]\n",
      " [ 16   3  -1 ... -16  -5   5]\n",
      " ...\n",
      " [  2   2   0 ... -11  -4  -8]\n",
      " [-17   8   5 ...   0  -1   1]\n",
      " [ -7  -7  -2 ...  -6   0   6]]\n",
      "#Dequantized W1:\n",
      "[[-5.12624921e-01 -1.71470257e-01 -5.12624921e-01 ... -2.56758923e-01\n",
      "  -1.71470257e-01 -1.71470257e-01]\n",
      " [ 1.69684408e-01  3.40261740e-01 -8.53779586e-01 ... -8.92924287e-04\n",
      "  -8.92924287e-04 -8.61815905e-02]\n",
      " [ 1.53430307e+00  4.25550407e-01  8.43957419e-02 ... -1.19493425e+00\n",
      "  -2.56758923e-01  5.96127739e-01]\n",
      " ...\n",
      " [ 3.40261740e-01  3.40261740e-01  1.69684408e-01 ... -7.68490920e-01\n",
      "  -1.71470257e-01 -5.12624921e-01]\n",
      " [-1.28022292e+00  8.51993738e-01  5.96127739e-01 ...  1.69684408e-01\n",
      "   8.43957419e-02  2.54973074e-01]\n",
      " [-4.27336255e-01 -4.27336255e-01 -8.92924287e-04 ... -3.42047589e-01\n",
      "   1.69684408e-01  6.81416405e-01]]\n",
      "Quantization MSE: 0.992\n",
      "INT6 Model Storage: 1.25 KB\n",
      "              precision    recall  f1-score   support\n",
      "\n",
      "     class_0       0.89      1.00      0.94         8\n",
      "     class_1       0.91      0.91      0.91        11\n",
      "     class_2       1.00      0.94      0.97        17\n",
      "\n",
      "    accuracy                           0.94        36\n",
      "   macro avg       0.93      0.95      0.94        36\n",
      "weighted avg       0.95      0.94      0.94        36\n",
      "\n",
      "### Qunatization with Bits: 4\n",
      "#Original FP32 W1:\n",
      "[[-0.5420247  -0.17215796 -0.4775285  ... -0.23556532 -0.16103874\n",
      "  -0.1501477 ]\n",
      " [ 0.15514757  0.37640822 -0.8304614  ...  0.03485452  0.00406086\n",
      "  -0.10569131]\n",
      " [ 1.5605261   0.42767206  0.06610699 ... -1.1828731  -0.28799695\n",
      "   0.57866275]\n",
      " ...\n",
      " [ 0.38066596  0.3469791   0.19245772 ... -0.7721957  -0.17893527\n",
      "  -0.497879  ]\n",
      " [-1.321151    0.8399943   0.5546144  ...  0.18353902  0.07889172\n",
      "   0.2625545 ]\n",
      " [-0.46748447 -0.465602   -0.02235018 ... -0.30418375  0.14572665\n",
      "   0.64380074]]\n",
      "#Quantized W1 with 4 bits:\n",
      "[[-2 -1 -2 ... -2 -1 -1]\n",
      " [ 0  0 -3 ... -1 -1 -1]\n",
      " [ 4  0 -1 ... -4 -2  1]\n",
      " ...\n",
      " [ 0  0  0 ... -3 -1 -2]\n",
      " [-5  1  1 ...  0 -1  0]\n",
      " [-2 -2 -1 ... -2  0  1]]\n",
      "#Dequantized W1:\n",
      "[[-0.41027841 -0.052066   -0.41027841 ... -0.41027841 -0.052066\n",
      "  -0.052066  ]\n",
      " [ 0.30614642  0.30614642 -0.76849082 ... -0.052066   -0.052066\n",
      "  -0.052066  ]\n",
      " [ 1.73899606  0.30614642 -0.052066   ... -1.12670323 -0.41027841\n",
      "   0.66435883]\n",
      " ...\n",
      " [ 0.30614642  0.30614642  0.30614642 ... -0.76849082 -0.052066\n",
      "  -0.41027841]\n",
      " [-1.48491564  0.66435883  0.66435883 ...  0.30614642 -0.052066\n",
      "   0.30614642]\n",
      " [-0.41027841 -0.41027841 -0.052066   ... -0.41027841  0.30614642\n",
      "   0.66435883]]\n",
      "Quantization MSE: 18.1014\n",
      "INT4 Model Storage: 0.83 KB\n",
      "              precision    recall  f1-score   support\n",
      "\n",
      "     class_0       0.89      1.00      0.94         8\n",
      "     class_1       1.00      0.91      0.95        11\n",
      "     class_2       1.00      1.00      1.00        17\n",
      "\n",
      "    accuracy                           0.97        36\n",
      "   macro avg       0.96      0.97      0.96        36\n",
      "weighted avg       0.98      0.97      0.97        36\n",
      "\n",
      "### Qunatization with Bits: 2\n",
      "#Original FP32 W1:\n",
      "[[-0.5420247  -0.17215796 -0.4775285  ... -0.23556532 -0.16103874\n",
      "  -0.1501477 ]\n",
      " [ 0.15514757  0.37640822 -0.8304614  ...  0.03485452  0.00406086\n",
      "  -0.10569131]\n",
      " [ 1.5605261   0.42767206  0.06610699 ... -1.1828731  -0.28799695\n",
      "   0.57866275]\n",
      " ...\n",
      " [ 0.38066596  0.3469791   0.19245772 ... -0.7721957  -0.17893527\n",
      "  -0.497879  ]\n",
      " [-1.321151    0.8399943   0.5546144  ...  0.18353902  0.07889172\n",
      "   0.2625545 ]\n",
      " [-0.46748447 -0.465602   -0.02235018 ... -0.30418375  0.14572665\n",
      "   0.64380074]]\n",
      "#Quantized W1 with 2 bits:\n",
      "[[-1 -1 -1 ... -1 -1 -1]\n",
      " [ 0  0 -1 ... -1 -1 -1]\n",
      " [ 0  0 -1 ... -1 -1  0]\n",
      " ...\n",
      " [ 0  0  0 ... -1 -1 -1]\n",
      " [-1  0  0 ...  0 -1  0]\n",
      " [-1 -1 -1 ... -1  0  0]]\n",
      "#Dequantized W1:\n",
      "[[-0.76849096 -0.76849096 -0.76849096 ... -0.76849096 -0.76849096\n",
      "  -0.76849096]\n",
      " [ 1.02257103  1.02257103 -0.76849096 ... -0.76849096 -0.76849096\n",
      "  -0.76849096]\n",
      " [ 1.02257103  1.02257103 -0.76849096 ... -0.76849096 -0.76849096\n",
      "   1.02257103]\n",
      " ...\n",
      " [ 1.02257103  1.02257103  1.02257103 ... -0.76849096 -0.76849096\n",
      "  -0.76849096]\n",
      " [-0.76849096  1.02257103  1.02257103 ...  1.02257103 -0.76849096\n",
      "   1.02257103]\n",
      " [-0.76849096 -0.76849096 -0.76849096 ... -0.76849096  1.02257103\n",
      "   1.02257103]]\n",
      "Quantization MSE: 566.2275\n",
      "INT2 Model Storage: 0.42 KB\n",
      "              precision    recall  f1-score   support\n",
      "\n",
      "     class_0       0.67      0.75      0.71         8\n",
      "     class_1       0.77      0.91      0.83        11\n",
      "     class_2       1.00      0.82      0.90        17\n",
      "\n",
      "    accuracy                           0.83        36\n",
      "   macro avg       0.81      0.83      0.81        36\n",
      "weighted avg       0.86      0.83      0.84        36\n",
      "\n"
     ]
    }
   ],
   "source": [
    "for bits in weights_preicions_in_bits:\n",
    "\n",
    "  print(f\"### Qunatization with Bits: {bits}\")\n",
    "\n",
    "  model_quantized = copy.deepcopy(model)\n",
    "\n",
    "  # Step 1: Apply CLE\n",
    "  W1, W2, b1 = cross_layer_equalization(model_quantized.W1, model_quantized.W2, model_quantized.b1)\n",
    "  b2 = model_quantized.b2\n",
    "\n",
    "  # Step 2: Quantize weights and biases of the model\n",
    "  q_W1, dq_W1, scale_W1, zp_W1 = quantize_tensor(W1, bits)\n",
    "  q_b1, dq_b1, scale_b1, zp_b1 = quantize_tensor(b1, bits)\n",
    "  q_W2, dq_W2, scale_W2, zp_W2 = quantize_tensor(W2, bits)\n",
    "  q_b2, dq_b2, scale_b2, zp_b2 = quantize_tensor(b2, bits)\n",
    "  print(f\"#Original FP32 W1:\\n{W1}\\n#Quantized W1 with {bits} bits:\\n{q_W1}\\n#Dequantized W1:\\n{dq_W1}\")\n",
    "  quant_mse = np.round(get_quant_mse(dq_W1, W1) + get_quant_mse(dq_W2, W2) + get_quant_mse(dq_b2, b2) + get_quant_mse(dq_b1, b1), 4)\n",
    "  print(f\"Quantization MSE: {quant_mse}\")\n",
    "\n",
    "  # Step 3: Assign new weights to the model\n",
    "  model_quantized.W1 = dq_W1\n",
    "  model_quantized.b1 = dq_b1\n",
    "  model_quantized.W2 = dq_W2\n",
    "  model_quantized.b2 = dq_b2\n",
    "\n",
    "  storage_kb = calculate_model_storage(model, num_bits=bits) / 1024\n",
    "  print(f\"INT{bits} Model Storage: {storage_kb :.2f} KB\")\n",
    "  y_pred_test_quant = np.argmax(model_quantized.forward(X_test_sc), axis=1)\n",
    "  report = classification_report(y_test, y_pred_test_quant, target_names=data.target_names)\n",
    "  report_dict = classification_report(y_test, y_pred_test_quant, target_names=data.target_names, output_dict=True)\n",
    "  print(report)\n",
    "\n",
    "  METRICS.append(\n",
    "      (\n",
    "              f\"Q_{bits}bit\", \n",
    "              float(report_dict[\"macro avg\"][\"f1-score\"]),\n",
    "              float(report_dict[\"macro avg\"][\"recall\"]),\n",
    "              float(report_dict[\"macro avg\"][\"precision\"]),\n",
    "              float(storage_kb),\n",
    "              float(quant_mse),\n",
    "    )\n",
    "  )"
   ]
  },
  {
   "cell_type": "code",
   "execution_count": 19,
   "id": "9a06cf5b-fa3b-438b-ba5b-0f68604d7df2",
   "metadata": {},
   "outputs": [
    {
     "data": {
      "text/plain": [
       "[('fp32',\n",
       "  0.9399881164587046,\n",
       "  0.9500891265597149,\n",
       "  0.9326599326599326,\n",
       "  np.float64(6.65234375),\n",
       "  0),\n",
       " ('Q_8bit',\n",
       "  0.9399881164587046,\n",
       "  0.9500891265597149,\n",
       "  0.9326599326599326,\n",
       "  1.6630859375,\n",
       "  0.0616),\n",
       " ('Q_6bit',\n",
       "  0.9399881164587046,\n",
       "  0.9500891265597149,\n",
       "  0.9326599326599326,\n",
       "  1.2470703125,\n",
       "  0.992),\n",
       " ('Q_4bit',\n",
       "  0.9645191409897292,\n",
       "  0.9696969696969697,\n",
       "  0.9629629629629629,\n",
       "  0.8310546875,\n",
       "  18.1014),\n",
       " ('Q_2bit',\n",
       "  0.8141471642420409,\n",
       "  0.8275401069518716,\n",
       "  0.8119658119658121,\n",
       "  0.4150390625,\n",
       "  566.2275)]"
      ]
     },
     "execution_count": 19,
     "metadata": {},
     "output_type": "execute_result"
    }
   ],
   "source": [
    "METRICS"
   ]
  },
  {
   "cell_type": "code",
   "execution_count": 20,
   "id": "8027c4a4-e8da-4045-91e4-8faa5d0eeef2",
   "metadata": {},
   "outputs": [],
   "source": [
    "df_results = pd.DataFrame(METRICS, columns=[\"Weights\", \"macro_avg_f1\", \"macro_avg_recall\", \"macro_avg_precision\", \"Kb\", \"MSE\"])\n",
    "# Simple efficiency metric\n",
    "# It shows how much model accuracy nominated in `macro_avg_f1` we store per one Kb of the model storage\n",
    "df_results[\"macro_avg_f1_per_Kb\"] = df_results[\"macro_avg_f1\"] / df_results[\"Kb\"]"
   ]
  },
  {
   "cell_type": "code",
   "execution_count": 21,
   "id": "7ae665d0-570b-456c-86ce-d28142cdd1cc",
   "metadata": {},
   "outputs": [
    {
     "data": {
      "text/html": [
       "<div>\n",
       "<style scoped>\n",
       "    .dataframe tbody tr th:only-of-type {\n",
       "        vertical-align: middle;\n",
       "    }\n",
       "\n",
       "    .dataframe tbody tr th {\n",
       "        vertical-align: top;\n",
       "    }\n",
       "\n",
       "    .dataframe thead th {\n",
       "        text-align: right;\n",
       "    }\n",
       "</style>\n",
       "<table border=\"1\" class=\"dataframe\">\n",
       "  <thead>\n",
       "    <tr style=\"text-align: right;\">\n",
       "      <th></th>\n",
       "      <th>Weights</th>\n",
       "      <th>macro_avg_f1</th>\n",
       "      <th>macro_avg_recall</th>\n",
       "      <th>macro_avg_precision</th>\n",
       "      <th>Kb</th>\n",
       "      <th>MSE</th>\n",
       "      <th>macro_avg_f1_per_Kb</th>\n",
       "    </tr>\n",
       "  </thead>\n",
       "  <tbody>\n",
       "    <tr>\n",
       "      <th>0</th>\n",
       "      <td>fp32</td>\n",
       "      <td>0.939988</td>\n",
       "      <td>0.950089</td>\n",
       "      <td>0.932660</td>\n",
       "      <td>6.652344</td>\n",
       "      <td>0.0000</td>\n",
       "      <td>0.141302</td>\n",
       "    </tr>\n",
       "    <tr>\n",
       "      <th>1</th>\n",
       "      <td>Q_8bit</td>\n",
       "      <td>0.939988</td>\n",
       "      <td>0.950089</td>\n",
       "      <td>0.932660</td>\n",
       "      <td>1.663086</td>\n",
       "      <td>0.0616</td>\n",
       "      <td>0.565207</td>\n",
       "    </tr>\n",
       "    <tr>\n",
       "      <th>2</th>\n",
       "      <td>Q_6bit</td>\n",
       "      <td>0.939988</td>\n",
       "      <td>0.950089</td>\n",
       "      <td>0.932660</td>\n",
       "      <td>1.247070</td>\n",
       "      <td>0.9920</td>\n",
       "      <td>0.753757</td>\n",
       "    </tr>\n",
       "    <tr>\n",
       "      <th>3</th>\n",
       "      <td>Q_4bit</td>\n",
       "      <td>0.964519</td>\n",
       "      <td>0.969697</td>\n",
       "      <td>0.962963</td>\n",
       "      <td>0.831055</td>\n",
       "      <td>18.1014</td>\n",
       "      <td>1.160596</td>\n",
       "    </tr>\n",
       "    <tr>\n",
       "      <th>4</th>\n",
       "      <td>Q_2bit</td>\n",
       "      <td>0.814147</td>\n",
       "      <td>0.827540</td>\n",
       "      <td>0.811966</td>\n",
       "      <td>0.415039</td>\n",
       "      <td>566.2275</td>\n",
       "      <td>1.961616</td>\n",
       "    </tr>\n",
       "  </tbody>\n",
       "</table>\n",
       "</div>"
      ],
      "text/plain": [
       "  Weights  macro_avg_f1  macro_avg_recall  macro_avg_precision        Kb  \\\n",
       "0    fp32      0.939988          0.950089             0.932660  6.652344   \n",
       "1  Q_8bit      0.939988          0.950089             0.932660  1.663086   \n",
       "2  Q_6bit      0.939988          0.950089             0.932660  1.247070   \n",
       "3  Q_4bit      0.964519          0.969697             0.962963  0.831055   \n",
       "4  Q_2bit      0.814147          0.827540             0.811966  0.415039   \n",
       "\n",
       "        MSE  macro_avg_f1_per_Kb  \n",
       "0    0.0000             0.141302  \n",
       "1    0.0616             0.565207  \n",
       "2    0.9920             0.753757  \n",
       "3   18.1014             1.160596  \n",
       "4  566.2275             1.961616  "
      ]
     },
     "execution_count": 21,
     "metadata": {},
     "output_type": "execute_result"
    }
   ],
   "source": [
    "df_results"
   ]
  },
  {
   "cell_type": "markdown",
   "id": "e84c0785-7ac2-473a-b7fd-f075767fa5cd",
   "metadata": {},
   "source": [
    "On top of that, we should keep the following linear coefficients for later weights dequantization during inference:"
   ]
  },
  {
   "cell_type": "code",
   "execution_count": 22,
   "id": "46f1602d-7e71-4499-806e-aa9c727db060",
   "metadata": {},
   "outputs": [
    {
     "data": {
      "text/plain": [
       "{'scale_W1': np.float32(1.791062),\n",
       " 'zp_W1': np.float32(-0.57093),\n",
       " 'scale_b1': np.float32(1.5382051),\n",
       " 'zp_b1': np.float32(-0.6835902),\n",
       " 'scale_W2': np.float32(1.9245272),\n",
       " 'zp_W2': np.float32(-0.60532856),\n",
       " 'scale_b2': np.float32(0.9522776),\n",
       " 'zp_b2': np.float32(0.15996909)}"
      ]
     },
     "execution_count": 22,
     "metadata": {},
     "output_type": "execute_result"
    }
   ],
   "source": [
    "linear_coefficients = {\n",
    "    \"scale_W1\": scale_W1,\n",
    "    \"zp_W1\": zp_W1,\n",
    "    \"scale_b1\": scale_b1,\n",
    "    \"zp_b1\": zp_b1,\n",
    "    \"scale_W2\": scale_W2,\n",
    "    \"zp_W2\": zp_W2,\n",
    "    \"scale_b2\": scale_b2,\n",
    "    \"zp_b2\": zp_b2\n",
    "}\n",
    "linear_coefficients"
   ]
  },
  {
   "cell_type": "markdown",
   "id": "1149eaa5-4f9d-4fcb-ae77-8ee17a0c2fc6",
   "metadata": {},
   "source": [
    "Choosing the best model depends on the specific requirements of your task. \n",
    "\n",
    "For example, if we want to balance model accuracy described via `macro_avg_f1` and model storage efficiency, we can pick `Q_4bit` solution. \n",
    "\n",
    "If we need the fastest model possible with minimum memory consumption for resource-constrained electronics, `Q_2bit` is our choice."
   ]
  },
  {
   "cell_type": "markdown",
   "id": "7ca9cedd-d022-46bf-b858-a2f4417c48fa",
   "metadata": {},
   "source": [
    "That's it! We created a wine classifier with Numpy from scratch and applied asymmetric linear quantization!"
   ]
  },
  {
   "cell_type": "markdown",
   "id": "cd30800a-dc1e-446c-8df9-20fa964cb63c",
   "metadata": {},
   "source": [
    "### 1.2 Example: Pytorch implementation"
   ]
  },
  {
   "cell_type": "markdown",
   "id": "8ab26b71-b3ef-44f7-b0f6-58c48216ccb9",
   "metadata": {},
   "source": [
    "#### Preparing neural network classifier"
   ]
  },
  {
   "cell_type": "code",
   "execution_count": 126,
   "id": "54ba772a-039e-4558-a367-661aa400e213",
   "metadata": {},
   "outputs": [],
   "source": [
    "class NNetTorch(nn.Module):\n",
    "\n",
    "    def __init__(self, input_size: int, hidden_size: int, output_size: int):\n",
    "        super(NNetTorch, self).__init__()\n",
    "        self.layer1 = nn.Linear(input_size, hidden_size, bias=True)\n",
    "        self.layer2 = nn.Linear(hidden_size, output_size, bias=True)\n",
    "        self.relu = nn.ReLU()\n",
    "        \n",
    "    def forward(self, x: torch.Tensor) -> torch.Tensor:\n",
    "        z1 = self.layer1(x)\n",
    "        a1 = self.relu(z1)\n",
    "        z2 = self.layer2(a1)\n",
    "        return z2        "
   ]
  },
  {
   "cell_type": "code",
   "execution_count": 127,
   "id": "89fc25ff-ccc2-4853-ae3a-59cffcaf467c",
   "metadata": {},
   "outputs": [],
   "source": [
    "torch.manual_seed(seed)\n",
    "\n",
    "# Set model parameters\n",
    "n_features = X.shape[1]             # 13 features, 13 table columns\n",
    "input_size = n_features             # Features are our input size of one sample\n",
    "hidden_size = 100                   # Hidden size is our hidden dimension. \n",
    "output_size = len(np.unique(y))     # Output size is defined via our categories\n",
    "\n",
    "# Set model training configuration\n",
    "epochs = 200     # Total epochs\n",
    "batch_size = 10  # How many samples we use in a mini-batch training\n",
    "lr = 0.1         # Learning rate is constant for simplicity\n",
    "eps = 1e-8       # Constant for numerical stability\n",
    "show_epochs = 10 # For verbose output\n",
    "train_size = len(y_train)\n",
    "device = \"cpu\""
   ]
  },
  {
   "cell_type": "code",
   "execution_count": 128,
   "id": "f2c30c85-28a2-42ba-a733-f3a35345d48a",
   "metadata": {},
   "outputs": [
    {
     "name": "stdout",
     "output_type": "stream",
     "text": [
      "Epoch: 0. Train loss: 9.005224227905273\n",
      "Epoch: 10. Train loss: 0.4637968838214874\n",
      "Epoch: 20. Train loss: 0.2039313018321991\n",
      "Epoch: 30. Train loss: 0.12359452247619629\n",
      "Epoch: 40. Train loss: 0.08653610199689865\n",
      "Epoch: 50. Train loss: 0.06568372249603271\n",
      "Epoch: 60. Train loss: 0.05258850008249283\n",
      "Epoch: 70. Train loss: 0.04365142062306404\n",
      "Epoch: 80. Train loss: 0.037142105400562286\n",
      "Epoch: 90. Train loss: 0.03222281485795975\n",
      "Epoch: 100. Train loss: 0.02839748002588749\n",
      "Epoch: 110. Train loss: 0.02533889375627041\n",
      "Epoch: 120. Train loss: 0.022840632125735283\n",
      "Epoch: 130. Train loss: 0.02076141908764839\n",
      "Epoch: 140. Train loss: 0.01901182532310486\n",
      "Epoch: 150. Train loss: 0.017512481659650803\n",
      "Epoch: 160. Train loss: 0.016218826174736023\n",
      "Epoch: 170. Train loss: 0.01508971955627203\n",
      "Epoch: 180. Train loss: 0.01409891713410616\n",
      "Epoch: 190. Train loss: 0.013219804503023624\n"
     ]
    }
   ],
   "source": [
    "model_torch = NNetTorch(input_size, hidden_size, output_size)\n",
    "criterion = nn.CrossEntropyLoss()\n",
    "optimizer = torch.optim.SGD(model_torch.parameters(), lr=lr)\n",
    "\n",
    "loss_log = []\n",
    "\n",
    "for epoch in range(epochs):\n",
    "  loss_accum = 0\n",
    "  for i in range(0, train_size, batch_size):\n",
    "      \n",
    "    X_batch = X_train_sc[i: i + batch_size, :]\n",
    "    y_batch = np.array(y_train_enc[i: i + batch_size, :].todense())\n",
    "    X_batch = torch.tensor(X_batch, dtype=torch.float32).to(device)\n",
    "    y_batch = torch.tensor(y_batch, dtype=torch.float32).to(device)\n",
    "\n",
    "    optimizer.zero_grad()\n",
    "      \n",
    "    y_pred = model_torch.forward(X_batch)\n",
    "    \n",
    "    loss = criterion(y_pred, y_batch)\n",
    "    loss.backward()\n",
    "\n",
    "    optimizer.step()\n",
    "    \n",
    "    loss_accum += loss\n",
    "      \n",
    "  loss_log.append(float(loss_accum.detach().numpy()))\n",
    "  if epoch % show_epochs == 0:\n",
    "    print(f\"Epoch: {epoch}. Train loss: {loss_accum}\")"
   ]
  },
  {
   "cell_type": "code",
   "execution_count": 129,
   "id": "005b4caf-675a-4836-b0de-104e89ac346a",
   "metadata": {},
   "outputs": [
    {
     "data": {
      "image/png": "[encoded data removed]",
      "text/plain": [
       "<Figure size 400x300 with 1 Axes>"
      ]
     },
     "metadata": {
      "image/png": {
       "height": 294,
       "width": 380
      }
     },
     "output_type": "display_data"
    }
   ],
   "source": [
    "fig = plt.figure(figsize=(4 ,3))\n",
    "plt.plot(np.log(loss_log))\n",
    "plt.xlabel(\"Epoch\")\n",
    "plt.ylabel(\"log(Loss per epoch)\")\n",
    "plt.show()"
   ]
  },
  {
   "cell_type": "code",
   "execution_count": 130,
   "id": "67db6968-66aa-46a8-ac43-288485b292ca",
   "metadata": {},
   "outputs": [
    {
     "name": "stdout",
     "output_type": "stream",
     "text": [
      "              precision    recall  f1-score   support\n",
      "\n",
      "     class_0       1.00      1.00      1.00         8\n",
      "     class_1       0.92      1.00      0.96        11\n",
      "     class_2       1.00      0.94      0.97        17\n",
      "\n",
      "    accuracy                           0.97        36\n",
      "   macro avg       0.97      0.98      0.98        36\n",
      "weighted avg       0.97      0.97      0.97        36\n",
      "\n"
     ]
    }
   ],
   "source": [
    "model_torch.eval()\n",
    "\n",
    "y_pred_test = torch.argmax(model_torch.forward(torch.tensor(X_test_sc, dtype=torch.float32, )), axis=1)\n",
    "print(classification_report(y_test, y_pred_test.numpy(), target_names=data.target_names))  "
   ]
  },
  {
   "cell_type": "code",
   "execution_count": 131,
   "id": "563e20e5-08a9-430a-ae72-4b2e75941dd1",
   "metadata": {},
   "outputs": [
    {
     "data": {
      "text/plain": [
       "[NNetTorch(\n",
       "   (layer1): Linear(in_features=13, out_features=100, bias=True)\n",
       "   (layer2): Linear(in_features=100, out_features=3, bias=True)\n",
       "   (relu): ReLU()\n",
       " ),\n",
       " Linear(in_features=13, out_features=100, bias=True),\n",
       " Linear(in_features=100, out_features=3, bias=True),\n",
       " ReLU()]"
      ]
     },
     "execution_count": 131,
     "metadata": {},
     "output_type": "execute_result"
    }
   ],
   "source": [
    "[x for x in model_torch.modules()]"
   ]
  },
  {
   "cell_type": "markdown",
   "id": "c336684a-47ba-4afe-b2e2-36a2bafb9b60",
   "metadata": {},
   "source": [
    "In torch API we have model parameters representation `.weight` and `.bias` attributes in a layer object"
   ]
  },
  {
   "cell_type": "code",
   "execution_count": 132,
   "id": "c15b2b97-7c6c-4c78-b28a-0e1cd3209b50",
   "metadata": {},
   "outputs": [],
   "source": [
    "layer1_module = model_torch.get_submodule(\"layer1\")\n",
    "layer2_module = model_torch.get_submodule(\"layer2\")\n",
    "layer1_W, layer1_b = layer1_module.weight, layer1_module.bias\n",
    "layer2_W, layer2_b = layer2_module.weight, layer2_module.bias"
   ]
  },
  {
   "cell_type": "code",
   "execution_count": 133,
   "id": "0fb724e3-6ceb-4159-a9d7-9e82adc25e82",
   "metadata": {},
   "outputs": [
    {
     "name": "stdout",
     "output_type": "stream",
     "text": [
      "Model info:\n",
      "dim(W1): torch.Size([100, 13])\n",
      "dim(b1): torch.Size([100])\n",
      "dim(W2): torch.Size([3, 100])\n",
      "dim(b2): torch.Size([3])\n",
      "\n"
     ]
    }
   ],
   "source": [
    "model_torch_info = {\n",
    "    \"W1\": layer1_W.shape,\n",
    "    \"b1\": layer1_b.shape,\n",
    "    \"W2\": layer2_W.shape,\n",
    "    \"b2\": layer2_b.shape,\n",
    "}\n",
    "print(\"Model info:\\n\" + \"\".join([f\"dim({k}): {v}\\n\" for k, v in model_torch_info.items()]))"
   ]
  },
  {
   "cell_type": "markdown",
   "id": "2f6b3c71-93a2-4533-bedc-9d7ad5d34d75",
   "metadata": {},
   "source": [
    "__Note about weight shapes__\n",
    "\n",
    "Let's recall that initial tabular data dimensions is `X.shape = (178, 13)` where 178 is the number of samples and 13 is the number of features in a dataset.\n",
    "\n",
    "In Numpy implementation we have a *mathematical* way of tensor dimensions representation which is `[in_features, out_features]`:\n",
    "\n",
    "    Model info:\n",
    "    dim(W1): (13, 100)\n",
    "    dim(b1): (1, 100)\n",
    "    dim(W2): (100, 3)\n",
    "    dim(b2): (1, 3)\n",
    "    \n",
    "In torch API dimensions order is `[out_features, in_features]`:\n",
    "\n",
    "    Model info:\n",
    "    dim(W1): torch.Size([100, 13])\n",
    "    dim(b1): torch.Size([100])\n",
    "    dim(W2): torch.Size([3, 100])\n",
    "    dim(b2): torch.Size([3])"
   ]
  },
  {
   "cell_type": "markdown",
   "id": "47db01aa-0a1d-4178-8e96-3ca0b9410180",
   "metadata": {},
   "source": [
    "#### Apply quantization"
   ]
  },
  {
   "cell_type": "markdown",
   "id": "b6e39ce1-1a8b-4f51-beab-a37991b5a9ff",
   "metadata": {},
   "source": [
    "#### torch.ao.quantization API\n",
    "\n",
    "- __[October 2025]__\n",
    "    * torch.ao API for quantization is available with `torch<2.10`. Starting from `torch==2.10` torchao will be the main API for these operations.\n",
    "    * The details about API migration is in `DeprecationWarning` message"
   ]
  },
  {
   "cell_type": "markdown",
   "id": "1f06dac9-1a80-47a5-a237-9a9dcf61df71",
   "metadata": {},
   "source": [
    "In torch<2.10 weight only quantization is mainly supported with dynamic quantization where we actually have uantization for the activations happening on-the-fly (“dynamic”) during inference."
   ]
  },
  {
   "cell_type": "code",
   "execution_count": 134,
   "id": "825791dd-0918-4c71-9201-f9ca37807733",
   "metadata": {},
   "outputs": [
    {
     "name": "stderr",
     "output_type": "stream",
     "text": [
      "/tmp/ipykernel_38881/55647241.py:1: DeprecationWarning: torch.ao.quantization is deprecated and will be removed in 2.10. \n",
      "For migrations of users: \n",
      "1. Eager mode quantization (torch.ao.quantization.quantize, torch.ao.quantization.quantize_dynamic), please migrate to use torchao eager mode quantize_ API instead \n",
      "2. FX graph mode quantization (torch.ao.quantization.quantize_fx.prepare_fx,torch.ao.quantization.quantize_fx.convert_fx, please migrate to use torchao pt2e quantization API instead (prepare_pt2e, convert_pt2e) \n",
      "3. pt2e quantization has been migrated to torchao (https://github.com/pytorch/ao/tree/main/torchao/quantization/pt2e) \n",
      "see https://github.com/pytorch/ao/issues/2259 for more details\n",
      "  model_torch_8bit_quantized = torch.quantization.quantize_dynamic(\n"
     ]
    }
   ],
   "source": [
    "model_torch_8bit_quantized = torch.quantization.quantize_dynamic(\n",
    "    model=model_torch,  \n",
    "    qconfig_spec={torch.nn.Linear}, \n",
    "    dtype=torch.qint8,\n",
    "    inplace=False,\n",
    ")"
   ]
  },
  {
   "cell_type": "code",
   "execution_count": 135,
   "id": "b5e03e10-e18a-4e4a-9e26-28d9f79a3c5d",
   "metadata": {},
   "outputs": [
    {
     "data": {
      "text/plain": [
       "NNetTorch(\n",
       "  (layer1): DynamicQuantizedLinear(in_features=13, out_features=100, dtype=torch.qint8, qscheme=torch.per_tensor_affine)\n",
       "  (layer2): DynamicQuantizedLinear(in_features=100, out_features=3, dtype=torch.qint8, qscheme=torch.per_tensor_affine)\n",
       "  (relu): ReLU()\n",
       ")"
      ]
     },
     "execution_count": 135,
     "metadata": {},
     "output_type": "execute_result"
    }
   ],
   "source": [
    "model_torch_8bit_quantized"
   ]
  },
  {
   "cell_type": "code",
   "execution_count": 136,
   "id": "254b5f8d-a35c-45dd-b096-466cbe444fb1",
   "metadata": {},
   "outputs": [
    {
     "name": "stdout",
     "output_type": "stream",
     "text": [
      "              precision    recall  f1-score   support\n",
      "\n",
      "     class_0       1.00      1.00      1.00         8\n",
      "     class_1       0.92      1.00      0.96        11\n",
      "     class_2       1.00      0.94      0.97        17\n",
      "\n",
      "    accuracy                           0.97        36\n",
      "   macro avg       0.97      0.98      0.98        36\n",
      "weighted avg       0.97      0.97      0.97        36\n",
      "\n"
     ]
    }
   ],
   "source": [
    "model_torch_8bit_quantized.eval()\n",
    "y_pred_test = torch.argmax(model_torch_8bit_quantized.forward(torch.tensor(X_test_sc, dtype=torch.float32, )), axis=1)\n",
    "print(classification_report(y_test, y_pred_test.numpy(), target_names=data.target_names))  "
   ]
  },
  {
   "cell_type": "markdown",
   "id": "2c6db9c1-5116-4433-8c42-4cf7c23ddb8a",
   "metadata": {},
   "source": [
    "Now we quantize weights and activations. This is a static quantization which means we need to add quantize and dequantize operations into our model. To do that. we add `QuantStub` and `DeQuantStub` layers.\n",
    "\n",
    "Note: About 100 mini-batches of representative data are sufficient to calibrate.\n",
    "\n",
    "See details: https://docs.pytorch.org/docs/stable/quantization-support.html"
   ]
  },
  {
   "cell_type": "code",
   "execution_count": 137,
   "id": "7dffc69f-c246-4daa-8578-a2aa1818655a",
   "metadata": {},
   "outputs": [
    {
     "name": "stderr",
     "output_type": "stream",
     "text": [
      "/tmp/ipykernel_38881/574239775.py:19: DeprecationWarning: torch.ao.quantization is deprecated and will be removed in 2.10. \n",
      "For migrations of users: \n",
      "1. Eager mode quantization (torch.ao.quantization.quantize, torch.ao.quantization.quantize_dynamic), please migrate to use torchao eager mode quantize_ API instead \n",
      "2. FX graph mode quantization (torch.ao.quantization.quantize_fx.prepare_fx,torch.ao.quantization.quantize_fx.convert_fx, please migrate to use torchao pt2e quantization API instead (prepare_pt2e, convert_pt2e) \n",
      "3. pt2e quantization has been migrated to torchao (https://github.com/pytorch/ao/tree/main/torchao/quantization/pt2e) \n",
      "see https://github.com/pytorch/ao/issues/2259 for more details\n",
      "  model_torch_prepared = torch.quantization.prepare(model_torch_with_stubs, inplace=False)\n",
      "/tmp/ipykernel_38881/574239775.py:32: DeprecationWarning: torch.ao.quantization is deprecated and will be removed in 2.10. \n",
      "For migrations of users: \n",
      "1. Eager mode quantization (torch.ao.quantization.quantize, torch.ao.quantization.quantize_dynamic), please migrate to use torchao eager mode quantize_ API instead \n",
      "2. FX graph mode quantization (torch.ao.quantization.quantize_fx.prepare_fx,torch.ao.quantization.quantize_fx.convert_fx, please migrate to use torchao pt2e quantization API instead (prepare_pt2e, convert_pt2e) \n",
      "3. pt2e quantization has been migrated to torchao (https://github.com/pytorch/ao/tree/main/torchao/quantization/pt2e) \n",
      "see https://github.com/pytorch/ao/issues/2259 for more details\n",
      "  model_torch_8bit_quantized = torch.quantization.convert(model_torch_prepared)\n"
     ]
    }
   ],
   "source": [
    "model_torch_with_stubs = nn.Sequential(\n",
    "    torch.quantization.QuantStub(), \n",
    "    model_torch, \n",
    "    torch.quantization.DeQuantStub()\n",
    ")\n",
    "\n",
    "model_torch_with_stubs.qconfig = torch.quantization.QConfig(\n",
    "    activation=torch.quantization.MinMaxObserver.with_args(\n",
    "        qscheme=torch.per_tensor_affine,  # Affine / Asymmetric\n",
    "        dtype=torch.quint8,\n",
    "        reduce_range=False\n",
    "    ),\n",
    "    weight=torch.quantization.MinMaxObserver.with_args(\n",
    "        dtype=torch.qint8,\n",
    "        qscheme=torch.per_tensor_affine  # Affine / Asymmetric\n",
    "    )\n",
    ")\n",
    "\n",
    "model_torch_prepared = torch.quantization.prepare(model_torch_with_stubs, inplace=False)\n",
    "\n",
    "# We need to calibrate our model a bit.\n",
    "# It means that we should collect statistics about our input data distribution in order to properly modify activations. \n",
    "# Since we do not have calibration dataset, we will use scaled train susbet params to generate feature vectors.\n",
    "\n",
    "N_calib = 100\n",
    "with torch.no_grad():\n",
    "    for _ in range(N_calib):\n",
    "        sample_input = np.random.normal(loc=X_train_sc.mean(axis=0), scale=1.)\n",
    "        tensor_input = torch.tensor(sample_input, dtype=torch.float32)\n",
    "        model_torch_prepared(tensor_input)\n",
    "\n",
    "model_torch_8bit_quantized = torch.quantization.convert(model_torch_prepared)"
   ]
  },
  {
   "cell_type": "code",
   "execution_count": 138,
   "id": "886fa2fd-7823-4f88-91f3-09eb21030fd1",
   "metadata": {},
   "outputs": [
    {
     "data": {
      "text/plain": [
       "Sequential(\n",
       "  (0): Quantize(scale=tensor([0.0271]), zero_point=tensor([130]), dtype=torch.quint8)\n",
       "  (1): NNetTorch(\n",
       "    (layer1): QuantizedLinear(in_features=13, out_features=100, scale=0.024561908096075058, zero_point=123, qscheme=torch.per_tensor_affine)\n",
       "    (layer2): QuantizedLinear(in_features=100, out_features=3, scale=0.07960879802703857, zero_point=103, qscheme=torch.per_tensor_affine)\n",
       "    (relu): ReLU()\n",
       "  )\n",
       "  (2): DeQuantize()\n",
       ")"
      ]
     },
     "execution_count": 138,
     "metadata": {},
     "output_type": "execute_result"
    }
   ],
   "source": [
    "model_torch_8bit_quantized"
   ]
  },
  {
   "cell_type": "code",
   "execution_count": 139,
   "id": "35d34d91-5ac4-431e-9d94-ccfdb57ccfdc",
   "metadata": {},
   "outputs": [
    {
     "name": "stdout",
     "output_type": "stream",
     "text": [
      "              precision    recall  f1-score   support\n",
      "\n",
      "     class_0       1.00      1.00      1.00         8\n",
      "     class_1       0.92      1.00      0.96        11\n",
      "     class_2       1.00      0.94      0.97        17\n",
      "\n",
      "    accuracy                           0.97        36\n",
      "   macro avg       0.97      0.98      0.98        36\n",
      "weighted avg       0.97      0.97      0.97        36\n",
      "\n"
     ]
    }
   ],
   "source": [
    "model_torch_8bit_quantized.eval()\n",
    "y_pred_test = torch.argmax(model_torch_8bit_quantized.forward(torch.tensor(X_test_sc, dtype=torch.float32)), axis=1)\n",
    "print(classification_report(y_test, y_pred_test.numpy(), target_names=data.target_names))"
   ]
  },
  {
   "cell_type": "markdown",
   "id": "91783af5-923b-45f7-969c-843f00ee5bff",
   "metadata": {},
   "source": [
    "#### torchao API\n",
    "\n",
    "See: https://docs.pytorch.org/ao/stable/static_quantization.html\n",
    "\n",
    "There are several predefined configs for torch models quantization as well as detailed examle in official torchao doc."
   ]
  },
  {
   "cell_type": "code",
   "execution_count": 140,
   "id": "c4763031-f6d5-4460-848a-dba756864189",
   "metadata": {},
   "outputs": [],
   "source": [
    "import torch.nn.functional as F\n",
    "from dataclasses import dataclass\n",
    "\n",
    "from torchao.quantization import Int8WeightOnlyConfig, Int4WeightOnlyConfig\n",
    "from torchao.quantization import Int8DynamicActivationInt4WeightConfig\n",
    "from torchao.quantization import Float8StaticActivationFloat8WeightConfig \n",
    "\n",
    "from torchao.core.config import AOBaseConfig\n",
    "from torchao.quantization import quantize_\n",
    "from torchao.quantization.quant_api import _replace_with_custom_fn_if_matches_filter\n",
    "from torchao.dtypes import to_affine_quantized_intx_static\n",
    "from torchao.quantization.observer import AffineQuantizedMinMaxObserver\n",
    "from torchao.quantization.granularity import PerTensor, PerAxis\n",
    "from torchao.quantization.quant_primitives import MappingType\n",
    "from torchao.quantization.transform_module import register_quantize_module_handler"
   ]
  },
  {
   "cell_type": "code",
   "execution_count": 141,
   "id": "6ac0bad3-8d84-4ffa-b75b-51a6a161c428",
   "metadata": {},
   "outputs": [],
   "source": [
    "act_obs = AffineQuantizedMinMaxObserver(\n",
    "    MappingType.ASYMMETRIC, # ASYMMETRIC or SYMMETRIC\n",
    "    torch.uint8,\n",
    "    granularity=PerTensor(),\n",
    "    eps=torch.finfo(torch.float32).eps,\n",
    "    scale_dtype=torch.float32,\n",
    "    zero_point_dtype=torch.float32,\n",
    ")\n",
    "\n",
    "weight_obs = AffineQuantizedMinMaxObserver(\n",
    "    MappingType.ASYMMETRIC,  # ASYMMETRIC or SYMMETRIC\n",
    "    torch.uint8,\n",
    "    granularity=PerAxis(axis=0),\n",
    "    eps=torch.finfo(torch.float32).eps,\n",
    "    scale_dtype=torch.float32,\n",
    "    zero_point_dtype=torch.float32,\n",
    ")\n",
    "\n",
    "class ObservedLinear(torch.nn.Linear):\n",
    "    def __init__(\n",
    "        self,\n",
    "        in_features: int,\n",
    "        out_features: int,\n",
    "        act_obs: torch.nn.Module,\n",
    "        weight_obs: torch.nn.Module,\n",
    "        bias: bool = True,\n",
    "        device=None,\n",
    "        dtype=None,\n",
    "    ):\n",
    "        super().__init__(in_features, out_features, bias, device, dtype)\n",
    "        self.act_obs = act_obs\n",
    "        self.weight_obs = weight_obs\n",
    "\n",
    "    def forward(self, input: torch.Tensor):\n",
    "        observed_input = self.act_obs(input)\n",
    "        observed_weight = self.weight_obs(self.weight)\n",
    "        return F.linear(observed_input, observed_weight, self.bias)\n",
    "\n",
    "    @classmethod\n",
    "    def from_float(cls, float_linear, act_obs, weight_obs):\n",
    "        observed_linear = cls(\n",
    "            float_linear.in_features,\n",
    "            float_linear.out_features,\n",
    "            act_obs,\n",
    "            weight_obs,\n",
    "            False,\n",
    "            device=float_linear.weight.device,\n",
    "            dtype=float_linear.weight.dtype,\n",
    "        )\n",
    "        observed_linear.weight = float_linear.weight\n",
    "        observed_linear.bias = float_linear.bias\n",
    "        return observed_linear\n",
    "\n",
    "def insert_observers_(model, act_obs, weight_obs):\n",
    "    _is_linear = lambda m, fqn: isinstance(m, torch.nn.Linear)\n",
    "\n",
    "    def replacement_fn(m):\n",
    "        copied_act_obs = copy.deepcopy(act_obs)\n",
    "        copied_weight_obs = copy.deepcopy(weight_obs)\n",
    "        return ObservedLinear.from_float(m, copied_act_obs, copied_weight_obs)\n",
    "\n",
    "    _replace_with_custom_fn_if_matches_filter(model, replacement_fn, _is_linear)"
   ]
  },
  {
   "cell_type": "code",
   "execution_count": 142,
   "id": "6fcfa3f0-fbe1-43ef-bf15-15e951ffcfe4",
   "metadata": {},
   "outputs": [],
   "source": [
    "model_torch_ao = copy.deepcopy(model_torch)\n",
    "insert_observers_(model_torch_ao, act_obs, weight_obs)"
   ]
  },
  {
   "cell_type": "code",
   "execution_count": 144,
   "id": "1e0b14a3-39eb-471a-8048-c5853c9ddcd3",
   "metadata": {},
   "outputs": [
    {
     "data": {
      "text/plain": [
       "NNetTorch(\n",
       "  (layer1): ObservedLinear(\n",
       "    in_features=13, out_features=100, bias=True\n",
       "    (act_obs): AffineQuantizedMinMaxObserver()\n",
       "    (weight_obs): AffineQuantizedMinMaxObserver()\n",
       "  )\n",
       "  (layer2): ObservedLinear(\n",
       "    in_features=100, out_features=3, bias=True\n",
       "    (act_obs): AffineQuantizedMinMaxObserver()\n",
       "    (weight_obs): AffineQuantizedMinMaxObserver()\n",
       "  )\n",
       "  (relu): ReLU()\n",
       ")"
      ]
     },
     "execution_count": 144,
     "metadata": {},
     "output_type": "execute_result"
    }
   ],
   "source": [
    "model_torch_ao"
   ]
  },
  {
   "cell_type": "code",
   "execution_count": 145,
   "id": "a91d54ea-c63e-4cf0-b6e6-a32f61b62d3a",
   "metadata": {},
   "outputs": [],
   "source": [
    "N_calib = 100\n",
    "with torch.no_grad():\n",
    "    for _ in range(N_calib):\n",
    "        sample_input = np.random.normal(loc=X_train_sc.mean(axis=0), scale=1.)\n",
    "        tensor_input = torch.tensor(sample_input, dtype=torch.float32)\n",
    "        model_torch_ao(tensor_input)"
   ]
  },
  {
   "cell_type": "code",
   "execution_count": 146,
   "id": "a0da89d8-46ea-40fa-9e61-9faa3a57de4e",
   "metadata": {},
   "outputs": [],
   "source": [
    "class QuantizedLinear(torch.nn.Module):\n",
    "    def __init__(\n",
    "        self,\n",
    "        in_features: int,\n",
    "        out_features: int,\n",
    "        act_obs: torch.nn.Module,\n",
    "        weight_obs: torch.nn.Module,\n",
    "        weight: torch.Tensor,\n",
    "        bias: torch.Tensor,\n",
    "        target_dtype: torch.dtype,\n",
    "    ):\n",
    "        super().__init__()\n",
    "        self.act_scale, self.act_zero_point = act_obs.calculate_qparams()\n",
    "        weight_scale, weight_zero_point = weight_obs.calculate_qparams()\n",
    "        assert weight.dim() == 2\n",
    "        block_size = (1, weight.shape[1])\n",
    "        self.target_dtype = target_dtype\n",
    "        self.bias = bias\n",
    "        self.qweight = to_affine_quantized_intx_static(\n",
    "            weight, weight_scale, weight_zero_point, block_size, self.target_dtype\n",
    "        )\n",
    "\n",
    "    def forward(self, input: torch.Tensor):\n",
    "        block_size = input.shape\n",
    "        qinput = to_affine_quantized_intx_static(\n",
    "            input,\n",
    "            self.act_scale,\n",
    "            self.act_zero_point,\n",
    "            block_size,\n",
    "            self.target_dtype,\n",
    "        )\n",
    "        return F.linear(qinput, self.qweight, self.bias)\n",
    "\n",
    "    @classmethod\n",
    "    def from_observed(cls, observed_linear, target_dtype):\n",
    "        quantized_linear = cls(\n",
    "            observed_linear.in_features,\n",
    "            observed_linear.out_features,\n",
    "            observed_linear.act_obs,\n",
    "            observed_linear.weight_obs,\n",
    "            observed_linear.weight,\n",
    "            observed_linear.bias,\n",
    "            target_dtype,\n",
    "        )\n",
    "        return quantized_linear"
   ]
  },
  {
   "cell_type": "code",
   "execution_count": 147,
   "id": "95c7d0b4-eec2-4b02-bd46-ff15f82832cb",
   "metadata": {},
   "outputs": [],
   "source": [
    "@dataclass\n",
    "class StaticQuantConfig(AOBaseConfig):\n",
    "    target_dtype: torch.dtype\n",
    "\n",
    "@register_quantize_module_handler(StaticQuantConfig)\n",
    "def _apply_static_quant(\n",
    "    module: torch.nn.Module,\n",
    "    config: StaticQuantConfig,\n",
    "):\n",
    "    \"\"\"\n",
    "    Define a transformation associated with `StaticQuantConfig`.\n",
    "    This is called by `quantize_`, not by the user directly.\n",
    "    \"\"\"\n",
    "    return QuantizedLinear.from_observed(module, config.target_dtype)\n",
    "\n",
    "# filter function to identify which modules to swap\n",
    "is_observed_linear = lambda m, fqn: isinstance(m, ObservedLinear)\n",
    "\n",
    "# perform static quantization\n",
    "quantize_(model_torch_ao, StaticQuantConfig(torch.uint8), is_observed_linear)"
   ]
  },
  {
   "cell_type": "code",
   "execution_count": 149,
   "id": "d45275c4-1c55-4ce6-9181-01a41401a226",
   "metadata": {},
   "outputs": [
    {
     "data": {
      "text/plain": [
       "NNetTorch(\n",
       "  (layer1): QuantizedLinear()\n",
       "  (layer2): QuantizedLinear()\n",
       "  (relu): ReLU()\n",
       ")"
      ]
     },
     "execution_count": 149,
     "metadata": {},
     "output_type": "execute_result"
    }
   ],
   "source": [
    "model_torch_ao"
   ]
  },
  {
   "cell_type": "code",
   "execution_count": 150,
   "id": "39eaffb9-d0e3-418c-9f6b-36a6afbd55d8",
   "metadata": {},
   "outputs": [
    {
     "name": "stdout",
     "output_type": "stream",
     "text": [
      "              precision    recall  f1-score   support\n",
      "\n",
      "     class_0       1.00      1.00      1.00         8\n",
      "     class_1       0.92      1.00      0.96        11\n",
      "     class_2       1.00      0.94      0.97        17\n",
      "\n",
      "    accuracy                           0.97        36\n",
      "   macro avg       0.97      0.98      0.98        36\n",
      "weighted avg       0.97      0.97      0.97        36\n",
      "\n"
     ]
    }
   ],
   "source": [
    "model_torch_ao.eval()\n",
    "y_pred_test = torch.argmax(model_torch_ao.forward(torch.tensor(X_test_sc, dtype=torch.float32)), axis=1)\n",
    "print(classification_report(y_test, y_pred_test.numpy(), target_names=data.target_names))  "
   ]
  },
  {
   "cell_type": "code",
   "execution_count": 152,
   "id": "34ed1ff6-9340-4a55-a3f9-34573f95f891",
   "metadata": {},
   "outputs": [
    {
     "data": {
      "text/plain": [
       "AffineQuantizedTensor(tensor_impl=PlainAQTTensorImpl(data=tensor([[ 70, 128,  49,  ...,  83, 200,   3],\n",
       "        [  0,  36,  83,  ..., 255,  57, 133],\n",
       "        [ 53, 234, 243,  ...,  22, 116,  23],\n",
       "        ...,\n",
       "        [119, 167, 233,  ...,  39,   0, 223],\n",
       "        [180,  92, 111,  ..., 220, 145,   0],\n",
       "        [ 25,  66,  17,  ..., 242, 140,   5]], dtype=torch.uint8)... , scale=tensor([0.0018, 0.0022, 0.0020, 0.0017, 0.0024, 0.0022, 0.0026, 0.0025, 0.0021,\n",
       "        0.0021, 0.0012, 0.0020, 0.0020, 0.0022, 0.0022, 0.0022, 0.0030, 0.0017,\n",
       "        0.0023, 0.0018, 0.0027, 0.0036, 0.0027, 0.0019, 0.0019, 0.0020, 0.0024,\n",
       "        0.0016, 0.0019, 0.0019, 0.0022, 0.0024, 0.0024, 0.0022, 0.0023, 0.0026,\n",
       "        0.0024, 0.0024, 0.0014, 0.0026, 0.0019, 0.0020, 0.0022, 0.0021, 0.0021,\n",
       "        0.0031, 0.0025, 0.0022, 0.0020, 0.0023, 0.0016, 0.0015, 0.0027, 0.0023,\n",
       "        0.0023, 0.0018, 0.0024, 0.0029, 0.0026, 0.0025, 0.0023, 0.0028, 0.0023,\n",
       "        0.0016, 0.0031, 0.0020, 0.0024, 0.0022, 0.0022, 0.0020, 0.0029, 0.0025,\n",
       "        0.0023, 0.0024, 0.0024, 0.0027, 0.0024, 0.0026, 0.0028, 0.0020, 0.0024,\n",
       "        0.0019, 0.0023, 0.0024, 0.0026, 0.0022, 0.0015, 0.0022, 0.0018, 0.0022,\n",
       "        0.0029, 0.0024, 0.0019, 0.0025, 0.0018, 0.0021, 0.0025, 0.0022, 0.0026,\n",
       "        0.0024])... , zero_point=tensor([133., 105., 122.,  97., 137., 139., 103., 101., 117.,  84., 173., 114.,\n",
       "        121., 109., 149., 132., 151., 159., 161., 114., 128., 120., 117., 122.,\n",
       "        134., 134., 151.,  97., 139., 146., 124., 110., 122., 103., 174., 122.,\n",
       "        181., 146., 158., 131.,  92., 113., 111., 111., 148., 134., 122., 150.,\n",
       "        106.,  87., 148.,  55., 129., 133., 135.,  96., 162., 131., 142., 101.,\n",
       "        149., 148., 125., 188., 134., 129., 143., 127., 151., 130., 128., 137.,\n",
       "        129.,  96., 139., 128., 113., 119., 130.,  89., 100., 146., 122., 130.,\n",
       "        138., 137., 106., 126., 117., 107., 121., 132.,  99., 126., 165., 185.,\n",
       "        101., 162., 141., 119.])... , _layout=PlainLayout()), block_size=(1, 13), shape=torch.Size([100, 13]), device=cpu, dtype=torch.float32, requires_grad=False)"
      ]
     },
     "execution_count": 152,
     "metadata": {},
     "output_type": "execute_result"
    }
   ],
   "source": [
    "model_torch_ao.get_submodule(\"layer1\").qweight"
   ]
  },
  {
   "cell_type": "code",
   "execution_count": 153,
   "id": "3d220a4a-fb1e-4c36-8f3d-75859f6a8551",
   "metadata": {},
   "outputs": [
    {
     "data": {
      "text/plain": [
       "Parameter containing:\n",
       "tensor([-0.1813,  0.1357,  0.2624,  0.3053,  0.0892,  0.1623,  0.2179,  0.3732,\n",
       "        -0.2232,  0.1446, -0.1695, -0.0876, -0.2863, -0.1848,  0.2870, -0.0086,\n",
       "         0.2643, -0.2374,  0.0596,  0.1793,  0.1847,  0.2727,  0.3992, -0.2607,\n",
       "        -0.1017, -0.1991,  0.1971, -0.0128, -0.0442,  0.1727,  0.0953,  0.2078,\n",
       "        -0.0858, -0.0805,  0.1546, -0.0710,  0.1670, -0.0221,  0.1278, -0.1898,\n",
       "        -0.1591, -0.0521,  0.1075, -0.0577,  0.2702,  0.3092,  0.1640,  0.2382,\n",
       "        -0.2314,  0.2611, -0.1818,  0.3401,  0.2177,  0.1151,  0.2238, -0.0037,\n",
       "        -0.1180,  0.0575,  0.2661,  0.2660, -0.2246, -0.0440,  0.0489, -0.0977,\n",
       "        -0.1266, -0.2183,  0.0272, -0.2230,  0.1602, -0.0068,  0.1271,  0.1193,\n",
       "         0.1665,  0.2376,  0.0505,  0.2689,  0.2189,  0.0073,  0.3055, -0.2426,\n",
       "         0.1149,  0.2373,  0.3551,  0.3098,  0.2602, -0.1526, -0.1691,  0.0402,\n",
       "         0.2435,  0.0259,  0.2799,  0.3631,  0.2337, -0.0659, -0.0808,  0.2157,\n",
       "         0.0274,  0.1854,  0.3029, -0.1879], requires_grad=True)"
      ]
     },
     "execution_count": 153,
     "metadata": {},
     "output_type": "execute_result"
    }
   ],
   "source": [
    "model_torch_ao.get_submodule(\"layer1\").bias"
   ]
  },
  {
   "cell_type": "code",
   "execution_count": 154,
   "id": "5e9e8efc-e5f8-4895-8443-ccaa6eea98ad",
   "metadata": {},
   "outputs": [
    {
     "data": {
      "text/plain": [
       "Parameter containing:\n",
       "tensor([-0.1813,  0.1357,  0.2624,  0.3053,  0.0892,  0.1623,  0.2179,  0.3732,\n",
       "        -0.2232,  0.1446, -0.1695, -0.0876, -0.2863, -0.1848,  0.2870, -0.0086,\n",
       "         0.2643, -0.2374,  0.0596,  0.1793,  0.1847,  0.2727,  0.3992, -0.2607,\n",
       "        -0.1017, -0.1991,  0.1971, -0.0128, -0.0442,  0.1727,  0.0953,  0.2078,\n",
       "        -0.0858, -0.0805,  0.1546, -0.0710,  0.1670, -0.0221,  0.1278, -0.1898,\n",
       "        -0.1591, -0.0521,  0.1075, -0.0577,  0.2702,  0.3092,  0.1640,  0.2382,\n",
       "        -0.2314,  0.2611, -0.1818,  0.3401,  0.2177,  0.1151,  0.2238, -0.0037,\n",
       "        -0.1180,  0.0575,  0.2661,  0.2660, -0.2246, -0.0440,  0.0489, -0.0977,\n",
       "        -0.1266, -0.2183,  0.0272, -0.2230,  0.1602, -0.0068,  0.1271,  0.1193,\n",
       "         0.1665,  0.2376,  0.0505,  0.2689,  0.2189,  0.0073,  0.3055, -0.2426,\n",
       "         0.1149,  0.2373,  0.3551,  0.3098,  0.2602, -0.1526, -0.1691,  0.0402,\n",
       "         0.2435,  0.0259,  0.2799,  0.3631,  0.2337, -0.0659, -0.0808,  0.2157,\n",
       "         0.0274,  0.1854,  0.3029, -0.1879], requires_grad=True)"
      ]
     },
     "execution_count": 154,
     "metadata": {},
     "output_type": "execute_result"
    }
   ],
   "source": [
    "model_torch.get_submodule(\"layer1\").bias"
   ]
  },
  {
   "cell_type": "markdown",
   "id": "cb5ce4cb-5d74-4305-a762-34aed724c047",
   "metadata": {},
   "source": [
    "As we can see biases were not quantized with this approach."
   ]
  },
  {
   "cell_type": "markdown",
   "id": "5534c8b6-aefd-4662-b8bd-851da918a988",
   "metadata": {},
   "source": [
    "With predefined config static weight quantization is very straightforward"
   ]
  },
  {
   "cell_type": "code",
   "execution_count": 168,
   "id": "85c469e4-fb04-4942-b447-df8099854856",
   "metadata": {},
   "outputs": [],
   "source": [
    "model_torch_ao_8bit = copy.deepcopy(model_torch)\n",
    "quantize_(model_torch_ao_8bit, Int8WeightOnlyConfig())"
   ]
  },
  {
   "cell_type": "code",
   "execution_count": 170,
   "id": "75d2c764-5182-4253-9610-c80496e7e992",
   "metadata": {},
   "outputs": [
    {
     "data": {
      "text/plain": [
       "NNetTorch(\n",
       "  (layer1): Linear(in_features=13, out_features=100, weight=AffineQuantizedTensor(shape=torch.Size([100, 13]), block_size=(1, 13), device=cpu, _layout=PlainLayout(), tensor_impl_dtype=torch.int8, quant_min=None, quant_max=None))\n",
       "  (layer2): Linear(in_features=100, out_features=3, weight=AffineQuantizedTensor(shape=torch.Size([3, 100]), block_size=(1, 100), device=cpu, _layout=PlainLayout(), tensor_impl_dtype=torch.int8, quant_min=None, quant_max=None))\n",
       "  (relu): ReLU()\n",
       ")"
      ]
     },
     "execution_count": 170,
     "metadata": {},
     "output_type": "execute_result"
    }
   ],
   "source": [
    "model_torch_ao_8bit"
   ]
  },
  {
   "cell_type": "code",
   "execution_count": 171,
   "id": "1386662a-f0bc-4bb5-82ba-fff63f88a2b3",
   "metadata": {},
   "outputs": [
    {
     "data": {
      "text/plain": [
       "AffineQuantizedTensor(tensor_impl=PlainAQTTensorImpl(data=tensor([[ -61,   -5,  -80,  ...,  -48,   65, -125],\n",
       "        [ -90,  -59,  -19,  ...,  127,  -41,   23],\n",
       "        [ -66,  107,  115,  ...,  -95,   -6,  -94],\n",
       "        ...,\n",
       "        [ -34,    4,   56,  ...,  -97, -128,   48],\n",
       "        [  35,  -44,  -27,  ...,   71,    4, -128],\n",
       "        [ -88,  -50,  -96,  ...,  115,   20, -107]], dtype=torch.int8)... , scale=tensor([0.0018, 0.0026, 0.0021, 0.0022, 0.0026, 0.0024, 0.0031, 0.0030, 0.0023,\n",
       "        0.0028, 0.0017, 0.0022, 0.0021, 0.0025, 0.0026, 0.0023, 0.0035, 0.0021,\n",
       "        0.0029, 0.0020, 0.0027, 0.0038, 0.0029, 0.0020, 0.0020, 0.0021, 0.0028,\n",
       "        0.0020, 0.0021, 0.0022, 0.0022, 0.0027, 0.0025, 0.0027, 0.0031, 0.0027,\n",
       "        0.0034, 0.0028, 0.0017, 0.0027, 0.0024, 0.0022, 0.0024, 0.0023, 0.0024,\n",
       "        0.0033, 0.0026, 0.0026, 0.0023, 0.0030, 0.0018, 0.0023, 0.0027, 0.0024,\n",
       "        0.0024, 0.0022, 0.0030, 0.0030, 0.0029, 0.0030, 0.0027, 0.0032, 0.0023,\n",
       "        0.0024, 0.0032, 0.0020, 0.0027, 0.0022, 0.0026, 0.0020, 0.0029, 0.0027,\n",
       "        0.0023, 0.0030, 0.0026, 0.0027, 0.0027, 0.0027, 0.0028, 0.0026, 0.0029,\n",
       "        0.0022, 0.0024, 0.0025, 0.0028, 0.0024, 0.0018, 0.0022, 0.0020, 0.0025,\n",
       "        0.0030, 0.0025, 0.0024, 0.0026, 0.0024, 0.0031, 0.0030, 0.0027, 0.0029,\n",
       "        0.0025])... , zero_point=tensor([0, 0, 0, 0, 0, 0, 0, 0, 0, 0, 0, 0, 0, 0, 0, 0, 0, 0, 0, 0, 0, 0, 0, 0,\n",
       "        0, 0, 0, 0, 0, 0, 0, 0, 0, 0, 0, 0, 0, 0, 0, 0, 0, 0, 0, 0, 0, 0, 0, 0,\n",
       "        0, 0, 0, 0, 0, 0, 0, 0, 0, 0, 0, 0, 0, 0, 0, 0, 0, 0, 0, 0, 0, 0, 0, 0,\n",
       "        0, 0, 0, 0, 0, 0, 0, 0, 0, 0, 0, 0, 0, 0, 0, 0, 0, 0, 0, 0, 0, 0, 0, 0,\n",
       "        0, 0, 0, 0])... , _layout=PlainLayout()), block_size=(1, 13), shape=torch.Size([100, 13]), device=cpu, dtype=torch.float32, requires_grad=False)"
      ]
     },
     "execution_count": 171,
     "metadata": {},
     "output_type": "execute_result"
    }
   ],
   "source": [
    "model_torch_ao_8bit.get_submodule(\"layer1\").weight"
   ]
  },
  {
   "cell_type": "code",
   "execution_count": 172,
   "id": "b164bd68-71f2-431d-8544-2cc5d54bbcc7",
   "metadata": {},
   "outputs": [
    {
     "data": {
      "text/plain": [
       "Parameter containing:\n",
       "tensor([-0.1813,  0.1357,  0.2624,  0.3053,  0.0892,  0.1623,  0.2179,  0.3732,\n",
       "        -0.2232,  0.1446, -0.1695, -0.0876, -0.2863, -0.1848,  0.2870, -0.0086,\n",
       "         0.2643, -0.2374,  0.0596,  0.1793,  0.1847,  0.2727,  0.3992, -0.2607,\n",
       "        -0.1017, -0.1991,  0.1971, -0.0128, -0.0442,  0.1727,  0.0953,  0.2078,\n",
       "        -0.0858, -0.0805,  0.1546, -0.0710,  0.1670, -0.0221,  0.1278, -0.1898,\n",
       "        -0.1591, -0.0521,  0.1075, -0.0577,  0.2702,  0.3092,  0.1640,  0.2382,\n",
       "        -0.2314,  0.2611, -0.1818,  0.3401,  0.2177,  0.1151,  0.2238, -0.0037,\n",
       "        -0.1180,  0.0575,  0.2661,  0.2660, -0.2246, -0.0440,  0.0489, -0.0977,\n",
       "        -0.1266, -0.2183,  0.0272, -0.2230,  0.1602, -0.0068,  0.1271,  0.1193,\n",
       "         0.1665,  0.2376,  0.0505,  0.2689,  0.2189,  0.0073,  0.3055, -0.2426,\n",
       "         0.1149,  0.2373,  0.3551,  0.3098,  0.2602, -0.1526, -0.1691,  0.0402,\n",
       "         0.2435,  0.0259,  0.2799,  0.3631,  0.2337, -0.0659, -0.0808,  0.2157,\n",
       "         0.0274,  0.1854,  0.3029, -0.1879], requires_grad=True)"
      ]
     },
     "execution_count": 172,
     "metadata": {},
     "output_type": "execute_result"
    }
   ],
   "source": [
    "model_torch_ao_8bit.get_submodule(\"layer1\").bias"
   ]
  },
  {
   "cell_type": "markdown",
   "id": "d23ce6c4-8538-45c2-8426-2bd3797eb6ac",
   "metadata": {},
   "source": [
    "Biases are not quantized here as well"
   ]
  },
  {
   "cell_type": "markdown",
   "id": "ef70ebdf-da80-4639-9ed3-651148ec17bb",
   "metadata": {},
   "source": [
    "### Example 2. Image classifier with convolutional neural network. CIFAR-10 \n",
    "\n",
    "In this examaple we will classify images using [CIFAR-10](https://www.cs.toronto.edu/~kriz/cifar.html) dataset"
   ]
  },
  {
   "cell_type": "code",
   "execution_count": null,
   "id": "b275eb50-6729-4316-b1f2-214cac3ff846",
   "metadata": {},
   "outputs": [],
   "source": []
  },
  {
   "cell_type": "code",
   "execution_count": null,
   "id": "f6278a9f-d07b-427c-9ec8-7af227f93d2f",
   "metadata": {},
   "outputs": [],
   "source": []
  },
  {
   "cell_type": "code",
   "execution_count": null,
   "id": "e258ee7e-1a4d-4162-afe6-0139372888c4",
   "metadata": {},
   "outputs": [],
   "source": []
  },
  {
   "cell_type": "code",
   "execution_count": null,
   "id": "1e3bca52-36e8-4f51-83a5-17f1a4cb2ce3",
   "metadata": {},
   "outputs": [],
   "source": []
  },
  {
   "cell_type": "code",
   "execution_count": null,
   "id": "5041aa72-5ffb-431c-a1f0-b2df746818be",
   "metadata": {},
   "outputs": [],
   "source": []
  },
  {
   "cell_type": "markdown",
   "id": "dd6883a7-32e5-46d8-81de-5c86cd0ec176",
   "metadata": {},
   "source": [
    "### Pytorch implementation"
   ]
  },
  {
   "cell_type": "markdown",
   "id": "8a12ca96-3a4f-48f3-a612-491f6f606524",
   "metadata": {},
   "source": [
    "#### Preparing neural network classifier"
   ]
  },
  {
   "cell_type": "code",
   "execution_count": null,
   "id": "ec54b210-5f0b-4849-93f0-8612bd119873",
   "metadata": {},
   "outputs": [],
   "source": []
  },
  {
   "cell_type": "markdown",
   "id": "24502fe8-d7c6-495a-94fe-8e7608c69735",
   "metadata": {},
   "source": [
    "#### Apply quantization"
   ]
  },
  {
   "cell_type": "code",
   "execution_count": null,
   "id": "8cfbace2-f789-42fd-ba28-e5ee9e165489",
   "metadata": {},
   "outputs": [],
   "source": []
  },
  {
   "cell_type": "code",
   "execution_count": null,
   "id": "8b624544-1e61-4858-bfd2-c1fe5c24bf1f",
   "metadata": {},
   "outputs": [],
   "source": []
  },
  {
   "cell_type": "code",
   "execution_count": null,
   "id": "3c9b55d5-2c04-499e-8330-182344939222",
   "metadata": {},
   "outputs": [],
   "source": []
  },
  {
   "cell_type": "code",
   "execution_count": null,
   "id": "20277f3d-50af-4a67-97fa-4e028affc3be",
   "metadata": {},
   "outputs": [],
   "source": []
  },
  {
   "cell_type": "code",
   "execution_count": null,
   "id": "97f03c02-b556-4b1e-b5d5-a7fe9aeb6a12",
   "metadata": {},
   "outputs": [],
   "source": []
  },
  {
   "cell_type": "markdown",
   "id": "148bc238-61de-4fa4-a4c1-6cf7bc336789",
   "metadata": {},
   "source": [
    "These examples  mainly cover  __weights only__ quantization and is called __post-training quantization, PTQ__.\n",
    "\n",
    "Remember that we can also:\n",
    "1. Quantize __weights and activations altogether__. To do that we need a calibration dataset for activations containing examples expected in a production environment.\n",
    "2. Consider __Quantization Aware Training, QAT__ for a higher accuracy. Generally, this approach yields higher results but requires much more resources."
   ]
  },
  {
   "cell_type": "code",
   "execution_count": null,
   "id": "6e540fd6-d2f0-43d6-be7e-543b806526fb",
   "metadata": {},
   "outputs": [],
   "source": []
  },
  {
   "cell_type": "code",
   "execution_count": null,
   "id": "8fb395a7-920c-4270-a8ea-7f3e95c54abc",
   "metadata": {},
   "outputs": [],
   "source": []
  }
 ],
 "metadata": {
  "kernelspec": {
   "display_name": "Python 3 (ipykernel)",
   "language": "python",
   "name": "python3"
  },
  "language_info": {
   "codemirror_mode": {
    "name": "ipython",
    "version": 3
   },
   "file_extension": ".py",
   "mimetype": "text/x-python",
   "name": "python",
   "nbconvert_exporter": "python",
   "pygments_lexer": "ipython3",
   "version": "3.12.3"
  }
 },
 "nbformat": 4,
 "nbformat_minor": 5
}
